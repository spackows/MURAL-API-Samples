{
 "cells": [
  {
   "cell_type": "markdown",
   "metadata": {},
   "source": [
    "# Use a large language model to summarize sticky notes\n",
    "\n",
    "### Scenario\n",
    "Imagine you are a team lead and you are taking your team through a reflection activity. Your team has used a mural to record their feedback.  Now, you need to summarize the mural contents for reporting results.\n",
    "\n",
    "Notebook sections:\n",
    "\n",
    "**Section A - Explore prompting large languge models**\n",
    "- [Step 1: Set up IBM watsonx.ai foundation model Python library prerequisites](#step1)\n",
    "- [Step 2: Create a function for prompting a model to identify top themes in messages](#step2)\n",
    "- [Step 3: Create a function for prompting a model to classify a message](#step3)\n",
    "- [Step 4: Create a function for prompting a model to summarize messages](#step4)\n",
    "\n",
    "**Section B - Set up your mural**\n",
    "- [Step 5: Set up MURAL prerequisites](#step5)\n",
    "- [Step 6: Read feedback messages from your mural](#step6)\n",
    "\n",
    "**Section C - Cluster sticky notes in the mural**\n",
    "- [Step 7: Identify top themes in sticky notes](#step7)\n",
    "- [Step 8: Classify sticky notes](#step8)\n",
    "- [Step 9: Cluster sticky notes in the mural](#step9)\n",
    "\n",
    "**Section D - Summarize sticky notes in a report**\n",
    "- [Step 10: Summarize sticky note classes](#step10)\n",
    "- [Step 11: Generate HTML report](#step11)\n",
    "\n",
    "When you run this notebook, your mural will look something like the image below.  \n",
    "\n",
    "And you'll have a report summarizing the contents of the mural: <a href=\"https://github.com/spackows/MURAL-API-Samples/blob/main/images/sample-18_llm-summary-report.pdf\" target=\"_other\">sample-18_llm-summary-report.pdf</a>\n",
    "\n",
    "<img src=\"https://raw.githubusercontent.com/spackows/MURAL-API-Samples/main/images/sample-18_llm-summary_01.png\" width=\"47%\" title=\"Image of a mural\" style=\"float: left;\" />\n",
    "\n",
    "<img src=\"https://raw.githubusercontent.com/spackows/MURAL-API-Samples/main/images/sample-18_llm-summary_05.png\" width=\"47%\" title=\"Image of a report\" style=\"float: right;\" />\n"
   ]
  },
  {
   "cell_type": "code",
   "execution_count": null,
   "metadata": {},
   "outputs": [],
   "source": []
  },
  {
   "cell_type": "code",
   "execution_count": null,
   "metadata": {},
   "outputs": [],
   "source": []
  },
  {
   "cell_type": "markdown",
   "metadata": {},
   "source": [
    "# Section A - Explore prompting large languge models\n",
    "\n",
    "<p>&nbsp;</p>\n",
    "\n",
    "<img src=\"https://raw.githubusercontent.com/spackows/MURAL-API-Samples/main/images/sample-18_llm-summary_02.png\" width=\"60%\" title=\"Image of a mural\" />"
   ]
  },
  {
   "cell_type": "markdown",
   "metadata": {},
   "source": [
    "<a id=\"step1\"></a>\n",
    "## Step 1: Set up IBM watsonx.ai foundation model Python library prerequisites\n",
    "Before you can prompt a foundation model in watsonx.ai, you must perform the following setup tasks:\n",
    "- 1.1 Create an instance of the Watson Machine Learning service\n",
    "- 1.2 Associate the Watson Machine Learning instance with the current project\n",
    "- 1.3 Create an IBM Cloud API key\n",
    "- 1.4 Create a credentials dictionary for Watson Machine learning\n",
    "- 1.5 Look up the current project ID"
   ]
  },
  {
   "cell_type": "markdown",
   "metadata": {},
   "source": [
    "### 1.1 Create an instance of the Watson Machine Learning service\n",
    "If you don't already have an instance of the IBM Watson Machine Learning service, you can create an instance of the service from the IBM Cloud catalog: <a href=\"https://console.ng.bluemix.net/catalog/services/ibm-watson-machine-learning/\" target=\"_blank\">Watson Machine Learning service</a>"
   ]
  },
  {
   "cell_type": "markdown",
   "metadata": {},
   "source": [
    "### 1.2 Associate an instance of the Watson Machine Learning service with the current project\n",
    "The _current project_ is the project in which you are running this notebook.\n",
    "\n",
    "If an instance of Watson Machine Learning is not already associated with the current project, follow the instructions in this topic to do so: <a href=\"https://dataplatform.cloud.ibm.com/docs/content/wsj/getting-started/assoc-services.html?context=wx&audience=wdp\" target=\"_blank\">Adding associated services to a project</a>"
   ]
  },
  {
   "cell_type": "markdown",
   "metadata": {},
   "source": [
    "### 1.3 Create an IBM Cloud API key\n",
    "Create an IBM Cloud API key by following these instruction: <a href=\"https://cloud.ibm.com/docs/account?topic=account-userapikey&interface=ui#create_user_key\" target=\"_blank\">Creating an IBM Cloud API key</a>\n",
    "\n",
    "Then paste your new IBM Cloud API key in the code cell below."
   ]
  },
  {
   "cell_type": "code",
   "execution_count": 2,
   "metadata": {},
   "outputs": [],
   "source": [
    "g_cloud_apikey = \"\""
   ]
  },
  {
   "cell_type": "markdown",
   "metadata": {},
   "source": [
    "### 1.4 Create a credentials dictionary for Watson Machine learning\n",
    "See: [Authentication](https://ibm.github.io/watson-machine-learning-sdk/setup_cloud.html#authentication)"
   ]
  },
  {
   "cell_type": "code",
   "execution_count": 3,
   "metadata": {},
   "outputs": [],
   "source": [
    "g_wml_credentials = { \n",
    "    \"url\"    : \"https://us-south.ml.cloud.ibm.com\", \n",
    "    \"apikey\" : g_cloud_apikey\n",
    "}"
   ]
  },
  {
   "cell_type": "markdown",
   "metadata": {},
   "source": [
    "### 1.5 Look up the current project ID\n",
    "The _current project_ is the project in which you are running this notebook.  You can get the ID of the current project programmatically by running the following cell."
   ]
  },
  {
   "cell_type": "code",
   "execution_count": 4,
   "metadata": {},
   "outputs": [],
   "source": [
    "import os\n",
    "\n",
    "g_project_id = os.environ[\"PROJECT_ID\"]"
   ]
  },
  {
   "cell_type": "code",
   "execution_count": null,
   "metadata": {},
   "outputs": [],
   "source": []
  },
  {
   "cell_type": "code",
   "execution_count": null,
   "metadata": {},
   "outputs": [],
   "source": []
  },
  {
   "cell_type": "markdown",
   "metadata": {},
   "source": [
    "<a id=\"step2\"></a>\n",
    "## Step 2: Create a function for prompting a model to identify top themes in messages\n",
    "- 2.1 Experiment in Prompt Lab\n",
    "- 2.2 Specify your selected model ID, prompt parameters, and prompt text template\n",
    "- 2.3 Define a function to identify themes"
   ]
  },
  {
   "cell_type": "markdown",
   "metadata": {},
   "source": [
    "### 2.1 Experiment in Prompt Lab \n",
    "The Prompt Lab in watsonx.ai is a graphical interface for experimenting with prompting foundation models.\n",
    "\n",
    "Experiment in Prompt Lab to discover what works best:\n",
    "- Which model returns ideal results\n",
    "- What parameter settings (eg. decoding) work best\n",
    "- What prompt text causes the model to respond the way you want\n",
    "\n",
    "See: [Prompt Lab](https://dataplatform.cloud.ibm.com/docs/content/wsj/analyze-data/fm-prompt-lab.html?context=wx&audience=wdp)"
   ]
  },
  {
   "cell_type": "markdown",
   "metadata": {},
   "source": [
    "### 2.2 Specify your selected model_id, prompt parameters, and prompt text template\n",
    "In the following three cells, there are example model ID, prompt parameters, and a prompt text template you can use.\n",
    "\n",
    "Replace any of these with values you discovered while experimenting in Prompt Lab.\n",
    "\n",
    "See:\n",
    "- [Models in watsonx.ai](https://dataplatform.cloud.ibm.com/docs/content/wsj/analyze-data/fm-models.html?context=wx&audience=wdp)\n",
    "- [Prompt parameters](https://dataplatform.cloud.ibm.com/docs/content/wsj/analyze-data/fm-model-parameters.html?context=wx&audience=wdp)"
   ]
  },
  {
   "cell_type": "code",
   "execution_count": 5,
   "metadata": {},
   "outputs": [],
   "source": [
    "g_themes_model_id = \"meta-llama/llama-2-70b-chat\""
   ]
  },
  {
   "cell_type": "code",
   "execution_count": 6,
   "metadata": {},
   "outputs": [],
   "source": [
    "g_themes_prompt_parameters = {\n",
    "    \"decoding_method\" : \"greedy\",\n",
    "    \"min_new_tokens\"  : 0,\n",
    "    \"max_new_tokens\"  : 60,\n",
    "    \"stop_sequences\"  : [ \"\\n\\n\" ]\n",
    "}"
   ]
  },
  {
   "cell_type": "markdown",
   "metadata": {},
   "source": [
    "**NOTE**\n",
    "\n",
    "In the following example template, notice the use of `%s` as a placeholder for the messages in the sticky notes. \n",
    "\n",
    "If you replace this template with a prompt you discovered through your experiments in Prompt Lab, remember to include a placeholder for the messages."
   ]
  },
  {
   "cell_type": "code",
   "execution_count": 7,
   "metadata": {},
   "outputs": [],
   "source": [
    "g_themes_prompt_template = \"\"\"The following meals fall into three broad themes:\n",
    "- Spaghetti with meatballs\n",
    "- Vegetarian sub\n",
    "- Shrimp pad thai\n",
    "- Fish fingers\n",
    "- Falafel\n",
    "- Steak and kidney pie\n",
    "\n",
    "Three themes in the list of meals:\n",
    "- Meat\n",
    "- Vegetarian\n",
    "- Seafood\n",
    "\n",
    "\n",
    "The following animals fall into three broad themes:\n",
    "- Cow\n",
    "- Chicken\n",
    "- Dog\n",
    "- Giraffe\n",
    "- Gerbil\n",
    "- Elephant\n",
    "\n",
    "Three themes in the list of animals:\n",
    "- Pet\n",
    "- Farm\n",
    "- Wild\n",
    "\n",
    "\n",
    "The following process feedback ideas fall into three broad themes:\n",
    "%s\n",
    "\n",
    "Think past what each idea mentions and consider larger patterns across the ideas.\n",
    "\n",
    "Three themes that get at the essence of the list of process feedback ideas:\n",
    "\"\"\"\n",
    "\n",
    "def createThemesPromptText( messages_arr ):\n",
    "    messages_str = \"- \" + \"\\n- \".join( messages_arr )\n",
    "    return g_themes_prompt_template % ( messages_str )"
   ]
  },
  {
   "cell_type": "code",
   "execution_count": 61,
   "metadata": {},
   "outputs": [
    {
     "name": "stdout",
     "output_type": "stream",
     "text": [
      "The following meals fall into three broad themes:\n",
      "- Spaghetti with meatballs\n",
      "- Vegetarian sub\n",
      "- Shrimp pad thai\n",
      "- Fish fingers\n",
      "- Falafel\n",
      "- Steak and kidney pie\n",
      "\n",
      "Three themes in the list of meals:\n",
      "- Meat\n",
      "- Vegetarian\n",
      "- Seafood\n",
      "\n",
      "\n",
      "The following animals fall into three broad themes:\n",
      "- Cow\n",
      "- Chicken\n",
      "- Dog\n",
      "- Giraffe\n",
      "- Gerbil\n",
      "- Elephant\n",
      "\n",
      "Three themes in the list of animals:\n",
      "- Pet\n",
      "- Farm\n",
      "- Wild\n",
      "\n",
      "\n",
      "The following process feedback ideas fall into three broad themes:\n",
      "- We need to focus more on automated regression processes to improve quality\n",
      "- Our development process should devote 1 week out of every 8 to only fixing bugs\n",
      "- Streamline our defect approval process because it's too time-consuming and tedious\n",
      "- Onboarding new team members takes ages because our processes are so complex\n",
      "- Our processes are not documented.. one or two of our senior people are the only ones to really understand everything\n",
      "- The defect process is so time-consuming that nobody reports bugs\n",
      "- We should streamline our processes\n",
      "- Managers need specific training on how to manage remote employees\n",
      "- Increase the manager-to-employee ratio, because currently managers don't have time for each person they manage\n",
      "- Regularly move people to different managers - to benefit from different management styles\n",
      "- I wish we gave managers more support so they don't have to learn everything the hard way - derailing peoples' careers along the way\n",
      "- Assess managers based on how successfully their reports grow and improve and get promoted\n",
      "- From a career growth perspective, my manager is totally absent.. She and I meet once a year for evaluations and otherwise I never see her!\n",
      "- If you have a weak manager, your career will stagnate until you move to a different team or company\n",
      "- When people need flexible hours or time off, don't require them to specify a reason, because everyone's life has different pressures, no one reason is more legitimate than another, and not having to disclose would reduce bias and discrimination\n",
      "- Give everyone the ability to work from home with no questions asked, so no one has to explain personal details of their life (eg. physical or mental disability, burnout, or caring obligations)\n",
      "- Establish a blanket rule that nobody is required to respond to emails outside regular working hours\n",
      "- After age 50, growth and development opportunities dry up and disappear, this is age-ism\n",
      "- We should explore the 4-day work week\n",
      "- My parents took sabbaticals every few years, it was a tremendous growth opportunity for them and they brought reviewed energy and new ideas back to work with them when they returned.  We should implement opportunities for sabbaticals too.\n",
      "- We need better support and understanding for parents juggling childcare\n",
      "\n",
      "Think past what each idea mentions and consider larger patterns across the ideas.\n",
      "\n",
      "Three themes that get at the essence of the list of process feedback ideas:\n",
      "\n"
     ]
    }
   ],
   "source": [
    "g_test_messages_arr = [ \n",
    "    \"We need to focus more on automated regression processes to improve quality\",\n",
    "    \"Our development process should devote 1 week out of every 8 to only fixing bugs\", \n",
    "    \"Streamline our defect approval process because it's too time-consuming and tedious\", \n",
    "    \"Onboarding new team members takes ages because our processes are so complex\",\n",
    "    \"Our processes are not documented.. one or two of our senior people are the only ones to really understand everything\",\n",
    "    \"The defect process is so time-consuming that nobody reports bugs\",\n",
    "    \"We should streamline our processes\",\n",
    "    \"Managers need specific training on how to manage remote employees\", \n",
    "    \"Increase the manager-to-employee ratio, because currently managers don't have time for each person they manage\",\n",
    "    \"Regularly move people to different managers - to benefit from different management styles\",\n",
    "    \"I wish we gave managers more support so they don't have to learn everything the hard way - derailing peoples' careers along the way\",\n",
    "    \"Assess managers based on how successfully their reports grow and improve and get promoted\",\n",
    "    \"From a career growth perspective, my manager is totally absent.. She and I meet once a year for evaluations and otherwise I never see her!\",\n",
    "    \"If you have a weak manager, your career will stagnate until you move to a different team or company\",\n",
    "    \"When people need flexible hours or time off, don't require them to specify a reason, because everyone's life has different pressures, no one reason is more legitimate than another, and not having to disclose would reduce bias and discrimination\",\n",
    "    \"Give everyone the ability to work from home with no questions asked, so no one has to explain personal details of their life (eg. physical or mental disability, burnout, or caring obligations)\",\n",
    "    \"Establish a blanket rule that nobody is required to respond to emails outside regular working hours\",\n",
    "    \"After age 50, growth and development opportunities dry up and disappear, this is age-ism\",\n",
    "    \"We should explore the 4-day work week\",\n",
    "    \"My parents took sabbaticals every few years, it was a tremendous growth opportunity for them and they brought reviewed energy and new ideas back to work with them when they returned.  We should implement opportunities for sabbaticals too.\",\n",
    "    \"We need better support and understanding for parents juggling childcare\"\n",
    "]\n",
    "\n",
    "g_themes_test_prompt_text = createThemesPromptText( g_test_messages_arr )\n",
    "\n",
    "print( g_themes_test_prompt_text )"
   ]
  },
  {
   "cell_type": "markdown",
   "metadata": {},
   "source": [
    "### 2.3 Define a function to identify themes\n",
    "You can prompt foundation models in IBM watsonx.ai programmatically using the foundation models Python library.\n",
    "\n",
    "See:\n",
    "- <a href=\"https://dataplatform.cloud.ibm.com/docs/content/wsj/analyze-data/fm-python-lib.html?context=wx&audience=wdp\" target=\"_blank\">Introduction to the foundation models Python library</a>\n",
    "- <a href=\"https://ibm.github.io/watson-machine-learning-sdk/foundation_models.html\" target=\"_blank\">Foundation models Python library reference</a>"
   ]
  },
  {
   "cell_type": "code",
   "execution_count": 50,
   "metadata": {},
   "outputs": [],
   "source": [
    "from ibm_watson_machine_learning.foundation_models import Model\n",
    "import json\n",
    "import re\n",
    "\n",
    "def generate( model_id, prompt_parameters, prompt_text, b_debug=False ):\n",
    "    model = Model( model_id, g_wml_credentials, prompt_parameters, g_project_id )\n",
    "    raw_response = model.generate( prompt_text )\n",
    "    if b_debug:\n",
    "        print( \"\\nraw_response:\\n\" + json.dumps( raw_response, indent=3 ) )\n",
    "    if ( \"results\" in raw_response ) \\\n",
    "       and ( len( raw_response[\"results\"] ) > 0 ) \\\n",
    "       and ( \"generated_text\" in raw_response[\"results\"][0] ):\n",
    "        return raw_response, raw_response[\"results\"][0][\"generated_text\"]\n",
    "    else:\n",
    "        print( \"\\nThe model failed to generate an answer\" )\n",
    "        print( \"\\nDebug info:\\n\" + json.dumps( raw_response, indent=3 ) )\n",
    "        return raw_response, \"\"\n",
    "\n",
    "def identifyThemes( model_id, prompt_parameters, messages_arr, b_debug=False ):\n",
    "    prompt_text = createThemesPromptText( messages_arr )\n",
    "    raw_response, generated_output = generate( model_id, prompt_parameters, prompt_text, b_debug )\n",
    "    class_names_str = re.sub( r\"^\\s*\\-\\s*\", \"\", generated_output )\n",
    "    class_names_str = re.sub( r\"\\s+$\", \"\", class_names_str )\n",
    "    class_names_arr = re.split( r\"\\s*\\n+\\-\\s*\", class_names_str )\n",
    "    class_names_arr = [ item.strip().capitalize() for item in class_names_arr ]\n",
    "    return class_names_arr"
   ]
  },
  {
   "cell_type": "code",
   "execution_count": 51,
   "metadata": {},
   "outputs": [
    {
     "name": "stdout",
     "output_type": "stream",
     "text": [
      "\n",
      "raw_response:\n",
      "{\n",
      "   \"model_id\": \"meta-llama/llama-2-70b-chat\",\n",
      "   \"created_at\": \"2023-11-18T23:03:07.070Z\",\n",
      "   \"results\": [\n",
      "      {\n",
      "         \"generated_text\": \"- Improving employee growth and development\\n- Work-life balance and flexibility\\n- Streamlining and optimizing processes\\n\\n\",\n",
      "         \"generated_token_count\": 28,\n",
      "         \"input_token_count\": 696,\n",
      "         \"stop_reason\": \"stop_sequence\"\n",
      "      }\n",
      "   ],\n",
      "   \"system\": {\n",
      "      \"warnings\": [\n",
      "         {\n",
      "            \"message\": \"This model is a Non-IBM Product governed by a third-party license that may impose use restrictions and other obligations. By using this model you agree to its terms as identified in the following URL. URL: https://dataplatform.cloud.ibm.com/docs/content/wsj/analyze-data/fm-models.html?context=wx\",\n",
      "            \"id\": \"disclaimer_warning\"\n",
      "         }\n",
      "      ]\n",
      "   }\n",
      "}\n",
      "\n",
      "g_test_themes_arr:\n",
      "[\n",
      "   \"Improving employee growth and development\",\n",
      "   \"Work-life balance and flexibility\",\n",
      "   \"Streamlining and optimizing processes\"\n",
      "]\n"
     ]
    }
   ],
   "source": [
    "g_test_themes_arr = identifyThemes( g_themes_model_id, g_themes_prompt_parameters, g_test_messages_arr, b_debug=True )\n",
    "\n",
    "print( \"\\ng_test_themes_arr:\\n\" + json.dumps( g_test_themes_arr, indent=3 ) )"
   ]
  },
  {
   "cell_type": "code",
   "execution_count": null,
   "metadata": {},
   "outputs": [],
   "source": []
  },
  {
   "cell_type": "code",
   "execution_count": null,
   "metadata": {},
   "outputs": [],
   "source": []
  },
  {
   "cell_type": "markdown",
   "metadata": {},
   "source": [
    "<a id=\"step3\"></a>\n",
    "## Step 3: Create a function for prompting a model to classify messages\n",
    "- 3.1 Experiment in Prompt Lab again\n",
    "- 3.2 Specify your selected model ID, prompt parameters, and prompt text template\n",
    "- 3.3 Define a function to perform classification"
   ]
  },
  {
   "cell_type": "markdown",
   "metadata": {},
   "source": [
    "### 3.1 Experiment in Prompt Lab again\n",
    "Experiment in Prompt Lab to discover what works best:\n",
    "- Which model returns ideal results\n",
    "- What parameter settings (eg. decoding) work best\n",
    "- What prompt text causes the model to respond the way you want"
   ]
  },
  {
   "cell_type": "markdown",
   "metadata": {},
   "source": [
    "### 3.2 Specify your selected model_id, prompt parameters, and prompt text template\n",
    "In the following three cells, there are example model ID, prompt parameters, and a prompt text template you can use.\n",
    "\n",
    "Replace any of these with values you discovered while experimenting in Prompt Lab."
   ]
  },
  {
   "cell_type": "code",
   "execution_count": 10,
   "metadata": {},
   "outputs": [],
   "source": [
    "g_classify_model_id = \"google/flan-t5-xxl\""
   ]
  },
  {
   "cell_type": "code",
   "execution_count": 11,
   "metadata": {},
   "outputs": [],
   "source": [
    "g_classify_prompt_parameters = {\n",
    "    \"decoding_method\" : \"greedy\",\n",
    "    \"min_new_tokens\"  : 0,\n",
    "    \"max_new_tokens\"  : 20\n",
    "}"
   ]
  },
  {
   "cell_type": "markdown",
   "metadata": {},
   "source": [
    "**NOTE**\n",
    "\n",
    "In the following example template, notice the use of `%s` as a placeholder for the class names and message text. \n",
    "\n",
    "If you replace this template with a prompt you discovered through your experiments in Prompt Lab, remember to include a placeholder for the class names and one for the message text."
   ]
  },
  {
   "cell_type": "code",
   "execution_count": 53,
   "metadata": {},
   "outputs": [],
   "source": [
    "g_classify_prompt_template = \"\"\"Classify the message into one of three classes: %s\n",
    "\n",
    "If the message doesn't fit any of the classes, say \"Other\"\n",
    "\n",
    "Message: %s\n",
    "Class: \n",
    "\"\"\"\n",
    "\n",
    "def createClassifyPromptText( class_names_arr, message_text ):\n",
    "    class_name_str = \", \".join( class_names_arr )\n",
    "    return g_classify_prompt_template % ( class_name_str, message_text )"
   ]
  },
  {
   "cell_type": "code",
   "execution_count": 62,
   "metadata": {},
   "outputs": [
    {
     "name": "stdout",
     "output_type": "stream",
     "text": [
      "Classify the message into one of three classes: Improving employee growth and development, Work-life balance and flexibility, Streamlining and optimizing processes\n",
      "\n",
      "If the message doesn't fit any of the classes, say \"Other\"\n",
      "\n",
      "Message: I think we should record our meetings so they could be played back\n",
      "Class: \n",
      "\n"
     ]
    }
   ],
   "source": [
    "g_classify_test_message = \"I think we should record our meetings so they could be played back\"\n",
    "\n",
    "g_classify_test_prompt_text = createClassifyPromptText( g_test_themes_arr, g_classify_test_message )\n",
    "\n",
    "print( g_classify_test_prompt_text )"
   ]
  },
  {
   "cell_type": "markdown",
   "metadata": {},
   "source": [
    "### 3.3 Define a function to perform classification"
   ]
  },
  {
   "cell_type": "code",
   "execution_count": 56,
   "metadata": {},
   "outputs": [],
   "source": [
    "def classifyMessage( model_id, prompt_parameters, class_names_arr, message_text, b_debug=False ):\n",
    "    prompt_text = createClassifyPromptText( class_names_arr, message_text )\n",
    "    raw_response, generated_output = generate( model_id, prompt_parameters, prompt_text, b_debug )\n",
    "    class_name = generated_output.strip().capitalize()\n",
    "    return class_name"
   ]
  },
  {
   "cell_type": "code",
   "execution_count": 57,
   "metadata": {},
   "outputs": [
    {
     "name": "stdout",
     "output_type": "stream",
     "text": [
      "\n",
      "raw_response:\n",
      "{\n",
      "   \"model_id\": \"google/flan-t5-xxl\",\n",
      "   \"created_at\": \"2023-11-18T23:04:58.143Z\",\n",
      "   \"results\": [\n",
      "      {\n",
      "         \"generated_text\": \"Streamlining and optimizing processes\",\n",
      "         \"generated_token_count\": 8,\n",
      "         \"input_token_count\": 69,\n",
      "         \"stop_reason\": \"eos_token\"\n",
      "      }\n",
      "   ],\n",
      "   \"system\": {\n",
      "      \"warnings\": [\n",
      "         {\n",
      "            \"message\": \"This model is a Non-IBM Product governed by a third-party license that may impose use restrictions and other obligations. By using this model you agree to its terms as identified in the following URL. URL: https://dataplatform.cloud.ibm.com/docs/content/wsj/analyze-data/fm-models.html?context=wx\",\n",
      "            \"id\": \"disclaimer_warning\"\n",
      "         }\n",
      "      ]\n",
      "   }\n",
      "}\n",
      "\n",
      "g_summarize_test_class_name: Streamlining and optimizing processes\n"
     ]
    }
   ],
   "source": [
    "g_summarize_test_class_name = classifyMessage( g_classify_model_id, g_classify_prompt_parameters, g_test_themes_arr, g_classify_test_message, b_debug=True )\n",
    "\n",
    "print( \"\\ng_summarize_test_class_name: \" + g_summarize_test_class_name )"
   ]
  },
  {
   "cell_type": "code",
   "execution_count": null,
   "metadata": {},
   "outputs": [],
   "source": []
  },
  {
   "cell_type": "code",
   "execution_count": null,
   "metadata": {},
   "outputs": [],
   "source": []
  },
  {
   "cell_type": "markdown",
   "metadata": {},
   "source": [
    "<a id=\"step4\"></a>\n",
    "## Step 4: Create a function for prompting a model to summarize messages\n",
    "- 4.1 Experiment in Prompt Lab again\n",
    "- 4.2 Specify your selected model ID, prompt parameters, and prompt text template\n",
    "- 4.3 Define a function to perform summarization"
   ]
  },
  {
   "cell_type": "markdown",
   "metadata": {},
   "source": [
    "### 4.1 Experiment in Prompt Lab again\n",
    "Experiment in Prompt Lab to discover what works best:\n",
    "- Which model returns ideal results\n",
    "- What parameter settings (eg. decoding) work best\n",
    "- What prompt text causes the model to respond the way you want"
   ]
  },
  {
   "cell_type": "markdown",
   "metadata": {},
   "source": [
    "### 4.2 Specify your selected model_id, prompt parameters, and prompt text template\n",
    "In the following three cells, there are example model ID, prompt parameters, and a prompt text template you can use.\n",
    "\n",
    "Replace any of these with values you discovered while experimenting in Prompt Lab."
   ]
  },
  {
   "cell_type": "code",
   "execution_count": 15,
   "metadata": {},
   "outputs": [],
   "source": [
    "g_summarize_model_id = \"meta-llama/llama-2-70b-chat\""
   ]
  },
  {
   "cell_type": "code",
   "execution_count": 16,
   "metadata": {},
   "outputs": [],
   "source": [
    "g_summarize_prompt_parameters = {\n",
    "    \"decoding_method\" : \"sample\",\n",
    "    \"random_seed\": 2788563498,\n",
    "    \"temperature\": 0.7,\n",
    "    \"top_k\": 50,\n",
    "    \"top_p\": 1,\n",
    "    \"repetition_penalty\": 1,\n",
    "    \"stop_sequences\": [ \"\\n\\n\" ],\n",
    "    \"min_new_tokens\"  : 0,\n",
    "    \"max_new_tokens\"  : 240\n",
    "}"
   ]
  },
  {
   "cell_type": "markdown",
   "metadata": {},
   "source": [
    "**NOTE**\n",
    "\n",
    "In the following example template, notice the use of `%s` as a placeholder for the class name and a list of messages. \n",
    "\n",
    "If you replace this template with a prompt you discovered through your experiments in Prompt Lab, remember to include a placeholder for the class name and one for a list of messages."
   ]
  },
  {
   "cell_type": "code",
   "execution_count": 17,
   "metadata": {},
   "outputs": [],
   "source": [
    "g_summarize_prompt_template = \"\"\"You are a management consultant hired to advice business leaders based on input from employees.\n",
    "\n",
    "The following employee input is related to %s:\n",
    "%s\n",
    "\n",
    "Write a one paragraph recommendation to company leaders based on only the employee input.  Take into account as much feedback as possible.  Identify common patterns across ideas.  Reflect the underlying human factors and needs of the employee input.  Explain how addressing these needs will benefit the company's success and bottom line.  Do not suggest ideas that are not listed in the employee ideas.  Use passive voice and do not refer to yourself; for example, say \"it is recommended\" instead of \"we recommend\".\n",
    "\n",
    "Recommendation:\n",
    "\"\"\"\n",
    "\n",
    "def createSummarizePromptText( class_name, messages_arr ):\n",
    "    messages_str = \"- \" + \"\\n- \".join( messages_arr )\n",
    "    return g_summarize_prompt_template % ( class_name.lower(), messages_str )"
   ]
  },
  {
   "cell_type": "code",
   "execution_count": 63,
   "metadata": {},
   "outputs": [
    {
     "name": "stdout",
     "output_type": "stream",
     "text": [
      "You are a management consultant hired to advice business leaders based on input from employees.\n",
      "\n",
      "The following employee input is related to streamlining and optimizing processes:\n",
      "- We need to focus more on automated regression processes to improve quality\n",
      "- Our development process should devote 1 week out of every 8 to only fixing bugs\n",
      "- Streamline our defect approval process because it's too time-consuming and tedious\n",
      "- Onboarding new team members takes ages because our processes are so complex\n",
      "- Our processes are not documented.. one or two of our senior people are the only ones to really understand everything\n",
      "- The defect process is so time-consuming that nobody reports bugs\n",
      "- We should streamline our processes\n",
      "\n",
      "Write a one paragraph recommendation to company leaders based on only the employee input.  Take into account as much feedback as possible.  Identify common patterns across ideas.  Reflect the underlying human factors and needs of the employee input.  Explain how addressing these needs will benefit the company's success and bottom line.  Do not suggest ideas that are not listed in the employee ideas.  Use passive voice and do not refer to yourself; for example, say \"it is recommended\" instead of \"we recommend\".\n",
      "\n",
      "Recommendation:\n",
      "\n"
     ]
    }
   ],
   "source": [
    "g_summarize_test_messages_arr = [\n",
    "    \"We need to focus more on automated regression processes to improve quality\",\n",
    "    \"Our development process should devote 1 week out of every 8 to only fixing bugs\",\n",
    "    \"Streamline our defect approval process because it's too time-consuming and tedious\",\n",
    "    \"Onboarding new team members takes ages because our processes are so complex\",\n",
    "    \"Our processes are not documented.. one or two of our senior people are the only ones to really understand everything\",\n",
    "    \"The defect process is so time-consuming that nobody reports bugs\",\n",
    "    \"We should streamline our processes\"\n",
    "]\n",
    "\n",
    "g_summarize_test_prompt_text = createSummarizePromptText( g_summarize_test_class_name, g_summarize_test_messages_arr )\n",
    "\n",
    "print( g_summarize_test_prompt_text )"
   ]
  },
  {
   "cell_type": "markdown",
   "metadata": {},
   "source": [
    "### 4.3 Define a function to perform summarization"
   ]
  },
  {
   "cell_type": "code",
   "execution_count": 59,
   "metadata": {},
   "outputs": [],
   "source": [
    "def summarizeMessages( model_id, prompt_parameters, class_name, messages_arr, b_debug=False ):\n",
    "    prompt_text = createSummarizePromptText( class_name, messages_arr )\n",
    "    raw_response, generated_output = generate( model_id, prompt_parameters, prompt_text, b_debug )\n",
    "    return generated_output.strip()"
   ]
  },
  {
   "cell_type": "code",
   "execution_count": 60,
   "metadata": {},
   "outputs": [
    {
     "name": "stdout",
     "output_type": "stream",
     "text": [
      "\n",
      "raw_response:\n",
      "{\n",
      "   \"model_id\": \"meta-llama/llama-2-70b-chat\",\n",
      "   \"created_at\": \"2023-11-18T23:06:38.487Z\",\n",
      "   \"results\": [\n",
      "      {\n",
      "         \"generated_text\": \"\\nIt is recommended that the organization prioritize the optimization of processes to enhance efficiency, quality, and employee satisfaction. This can be achieved by implementing automated regression processes, dedicating specific periods for bug fixing, and simplifying the defect approval process. Moreover, streamlining the onboarding process and documenting processes can help reduce complexity and improve understanding among team members. Addressing these needs will not only improve the quality of work but also increase employee morale, productivity, and ultimately, the company's bottom line. By creating a more efficient and effective work environment, the organization can reduce the time spent on tedious tasks, allowing employees to focus on high-value activities that contribute to the company's success.\",\n",
      "         \"generated_token_count\": 151,\n",
      "         \"input_token_count\": 271,\n",
      "         \"stop_reason\": \"eos_token\",\n",
      "         \"seed\": 2788563498\n",
      "      }\n",
      "   ],\n",
      "   \"system\": {\n",
      "      \"warnings\": [\n",
      "         {\n",
      "            \"message\": \"This model is a Non-IBM Product governed by a third-party license that may impose use restrictions and other obligations. By using this model you agree to its terms as identified in the following URL. URL: https://dataplatform.cloud.ibm.com/docs/content/wsj/analyze-data/fm-models.html?context=wx\",\n",
      "            \"id\": \"disclaimer_warning\"\n",
      "         }\n",
      "      ]\n",
      "   }\n",
      "}\n"
     ]
    },
    {
     "data": {
      "text/plain": [
       "\"It is recommended that the organization prioritize the optimization of processes to enhance efficiency, quality, and employee satisfaction. This can be achieved by implementing automated regression processes, dedicating specific periods for bug fixing, and simplifying the defect approval process. Moreover, streamlining the onboarding process and documenting processes can help reduce complexity and improve understanding among team members. Addressing these needs will not only improve the quality of work but also increase employee morale, productivity, and ultimately, the company's bottom line. By creating a more efficient and effective work environment, the organization can reduce the time spent on tedious tasks, allowing employees to focus on high-value activities that contribute to the company's success.\""
      ]
     },
     "execution_count": 60,
     "metadata": {},
     "output_type": "execute_result"
    }
   ],
   "source": [
    "summarizeMessages( g_summarize_model_id, g_summarize_prompt_parameters, g_summarize_test_class_name, g_summarize_test_messages_arr, b_debug=True )"
   ]
  },
  {
   "cell_type": "code",
   "execution_count": null,
   "metadata": {},
   "outputs": [],
   "source": []
  },
  {
   "cell_type": "code",
   "execution_count": null,
   "metadata": {},
   "outputs": [],
   "source": []
  },
  {
   "cell_type": "markdown",
   "metadata": {},
   "source": [
    "# Section B - Set up your mural\n",
    "\n",
    "<p>&nbsp;</p>\n",
    "\n",
    "<img src=\"https://raw.githubusercontent.com/spackows/MURAL-API-Samples/main/images/sample-18_llm-summary_03.png\" width=\"50%\" title=\"Image of a mural\" />"
   ]
  },
  {
   "cell_type": "markdown",
   "metadata": {},
   "source": [
    "<a id=\"step\"></a>\n",
    "## Step 5: Set up MURAL prerequisites\n",
    "- 5.1 Create empty, sample mural\n",
    "- 5.2 Collect mural ID\n",
    "- 5.3 Get Oauth token\n",
    "- 5.4 Load helper functions\n",
    "- 5.5 Populate mural"
   ]
  },
  {
   "cell_type": "markdown",
   "metadata": {},
   "source": [
    "### 5.1 Create empty, sample mural\n",
    "In the MURAL web interface, create a new, empty mural."
   ]
  },
  {
   "cell_type": "markdown",
   "metadata": {},
   "source": [
    "### 5.2 Collect mural ID\n",
    "You can find the mural ID in the url of a mural.\n",
    "\n",
    "Mural urls look something like this:\n",
    "\n",
    "```\n",
    "https://app.mural.co/t/<workspace>/m/<workspace>/<id>/...\n",
    "```\n",
    "\n",
    "What you need to pass to the MURAL API is just after the `/m/`: the \\<workspace> and the \\<id>.  And you need to join then with a period.\n",
    "\n",
    "For example, if you have a mural with this url:\n",
    "\n",
    "```\n",
    "https://app.mural.co/t/teamideas1234/m/teamideas1234/1234567890123/...\n",
    "```\n",
    "\n",
    "Then, the mural ID is: `teamideas1234.1234567890123`"
   ]
  },
  {
   "cell_type": "code",
   "execution_count": 20,
   "metadata": {},
   "outputs": [],
   "source": [
    "g_mural_id = \"\""
   ]
  },
  {
   "cell_type": "markdown",
   "metadata": {},
   "source": [
    "### 5.3 Collect OAuth token"
   ]
  },
  {
   "cell_type": "code",
   "execution_count": 21,
   "metadata": {},
   "outputs": [],
   "source": [
    "g_auth_token = \"\""
   ]
  },
  {
   "cell_type": "markdown",
   "metadata": {},
   "source": [
    "### 5.4 Load helper functions\n",
    "\n",
    "To simplify this notebook, some useful, MURAL-related functions are implemented in a supporting file: [sample-18_llm-summary.py](https://github.com/spackows/MURAL-API-Samples/blob/main/helper-functions/sample-18_llm-summary.py)\n",
    "\n",
    "Helpful functions:\n",
    "- putWidget\n"
   ]
  },
  {
   "cell_type": "code",
   "execution_count": 22,
   "metadata": {},
   "outputs": [],
   "source": [
    "from requests import get\n",
    "\n",
    "url = \"https://raw.githubusercontent.com/spackows/MURAL-API-Samples/main/helper-functions/sample-18_llm-summary.py\"\n",
    "\n",
    "local_file_name = \"helper_functions.py\"\n",
    "with open( local_file_name, \"wb\") as file:\n",
    "    response = get( url )\n",
    "    file.write( response.content )\n",
    "\n",
    "import helper_functions as hf"
   ]
  },
  {
   "cell_type": "markdown",
   "metadata": {},
   "source": [
    "### 5.5 Populate mural"
   ]
  },
  {
   "cell_type": "code",
   "execution_count": 23,
   "metadata": {},
   "outputs": [],
   "source": [
    "import urllib\n",
    "\n",
    "url = \"https://raw.githubusercontent.com/spackows/MURAL-API-Samples/main/murals/sample-18_llm-summary.json\"\n",
    "response = urllib.request.urlopen( url )\n",
    "encoding = response.info().get_content_charset( \"utf8\" )\n",
    "sample_widgets_arr = json.loads( response.read().decode( encoding ) )"
   ]
  },
  {
   "cell_type": "code",
   "execution_count": 24,
   "metadata": {},
   "outputs": [
    {
     "name": "stdout",
     "output_type": "stream",
     "text": [
      "Done!\n"
     ]
    }
   ],
   "source": [
    "import time\n",
    "\n",
    "time.sleep(5)\n",
    "\n",
    "# Quick!  After clicking Run on this cell, switch to \n",
    "# your browser tab where the mural is to see the change\n",
    "# ...\n",
    "\n",
    "error_str = hf.putWidgets( g_auth_token, g_mural_id, sample_widgets_arr )\n",
    "\n",
    "if error_str:\n",
    "    print( error_str )\n",
    "else:\n",
    "    print( \"Done!\" )"
   ]
  },
  {
   "cell_type": "code",
   "execution_count": null,
   "metadata": {},
   "outputs": [],
   "source": []
  },
  {
   "cell_type": "code",
   "execution_count": null,
   "metadata": {},
   "outputs": [],
   "source": []
  },
  {
   "cell_type": "markdown",
   "metadata": {},
   "source": [
    "<a id=\"step5\"></a>\n",
    "## Step 6: Read feedback from your mural"
   ]
  },
  {
   "cell_type": "code",
   "execution_count": 25,
   "metadata": {},
   "outputs": [
    {
     "name": "stdout",
     "output_type": "stream",
     "text": [
      "Done!\n"
     ]
    }
   ],
   "source": [
    "error_str, g_widgets_arr = hf.listWidgets( g_auth_token, g_mural_id )\n",
    "\n",
    "if error_str:\n",
    "    print( error_str )\n",
    "else:\n",
    "    print( \"Done!\" )"
   ]
  },
  {
   "cell_type": "code",
   "execution_count": null,
   "metadata": {},
   "outputs": [],
   "source": [
    "g_stickies_arr = []\n",
    "for widget in g_widgets_arr:\n",
    "    sticky = { \"id\"     : widget[\"id\"],\n",
    "               \"org_x\"  : widget[\"x\"],\n",
    "               \"org_y\"  : widget[\"y\"],\n",
    "               \"height\" : widget[\"height\"],\n",
    "               \"width\"  : widget[\"width\"],\n",
    "               \"text\"   : widget[\"text\"] }\n",
    "    g_stickies_arr.append( sticky )\n",
    "    \n",
    "g_stickies_arr"
   ]
  },
  {
   "cell_type": "code",
   "execution_count": null,
   "metadata": {},
   "outputs": [],
   "source": []
  },
  {
   "cell_type": "code",
   "execution_count": null,
   "metadata": {},
   "outputs": [],
   "source": []
  },
  {
   "cell_type": "markdown",
   "metadata": {},
   "source": [
    "# Section C - Summarize sticky notes\n",
    "\n",
    "<p>&nbsp;</p>\n",
    "\n",
    "<img src=\"https://raw.githubusercontent.com/spackows/MURAL-API-Samples/main/images/sample-18_llm-summary_01.png\" width=\"50%\" title=\"Image of a mural\" />"
   ]
  },
  {
   "cell_type": "markdown",
   "metadata": {},
   "source": [
    "<a id=\"step6\"></a>\n",
    "## Step 7: Identify top themes in sticky notes"
   ]
  },
  {
   "cell_type": "code",
   "execution_count": 27,
   "metadata": {},
   "outputs": [],
   "source": [
    "def identifyThemesInStickies( model_id, prompt_parameters, stickies_arr, b_debug=False ):\n",
    "    messages_arr = []\n",
    "    for sticky in stickies_arr:\n",
    "        messages_arr.append( sticky[\"text\"] )\n",
    "    class_names_arr = identifyThemes( model_id, prompt_parameters, g_test_messages_arr, b_debug )\n",
    "    return class_names_arr"
   ]
  },
  {
   "cell_type": "code",
   "execution_count": 28,
   "metadata": {},
   "outputs": [
    {
     "name": "stdout",
     "output_type": "stream",
     "text": [
      "[\n",
      "   \"Improving employee growth and development\",\n",
      "   \"Work-life balance and flexibility\",\n",
      "   \"Streamlining and optimizing processes\"\n",
      "]\n"
     ]
    }
   ],
   "source": [
    "g_class_names_arr = identifyThemesInStickies( g_themes_model_id, g_themes_prompt_parameters, g_stickies_arr )\n",
    "\n",
    "print( json.dumps( g_class_names_arr, indent=3 ) )"
   ]
  },
  {
   "cell_type": "code",
   "execution_count": null,
   "metadata": {},
   "outputs": [],
   "source": []
  },
  {
   "cell_type": "code",
   "execution_count": null,
   "metadata": {},
   "outputs": [],
   "source": []
  },
  {
   "cell_type": "markdown",
   "metadata": {},
   "source": [
    "<a id=\"step8\"></a>\n",
    "## Step 8: Classify sticky notes"
   ]
  },
  {
   "cell_type": "code",
   "execution_count": 29,
   "metadata": {},
   "outputs": [],
   "source": [
    "def classifyStickies( class_names_arr, stickies_arr ):\n",
    "    classified_stickies = {}\n",
    "    for sticky in stickies_arr:\n",
    "        class_name = classifyMessage( g_classify_model_id, g_classify_prompt_parameters, class_names_arr, sticky[\"text\"] )\n",
    "        if( class_name not in classified_stickies ):\n",
    "            classified_stickies[ class_name ] = []\n",
    "        classified_stickies[ class_name ].append( sticky )\n",
    "    return classified_stickies"
   ]
  },
  {
   "cell_type": "code",
   "execution_count": 30,
   "metadata": {},
   "outputs": [],
   "source": [
    "g_classified_stickies = classifyStickies( g_class_names_arr, g_stickies_arr )"
   ]
  },
  {
   "cell_type": "code",
   "execution_count": 44,
   "metadata": {},
   "outputs": [
    {
     "name": "stdout",
     "output_type": "stream",
     "text": [
      "\n",
      "Streamlining and optimizing processes\n",
      "- We need to focus more on automated regression processes to improve quality\n",
      "- Our development process should devote 1 week out of every 8 to only fixing bugs\n",
      "- Streamline our defect approval process because it's too time-consuming and tedio\n",
      "- Onboarding new team members takes ages because our processes are so complex\n",
      "- Our processes are not documented.. one or two of our senior people are the only \n",
      "- The defect process is so time-consuming that nobody reports bugs\n",
      "- We should streamline our processes\n",
      "\n",
      "Work-life balance and flexibility\n",
      "- Managers need specific training on how to manage remote employees\n",
      "- When people need flexible hours or time off, don't require them to specify a rea\n",
      "- Give everyone the ability to work from home with no questions asked, so no one h\n",
      "- Establish a blanket rule that nobody is required to respond to emails outside re\n",
      "- We should explore the 4-day work week\n",
      "- We need better support and understanding for parents juggling childcare\n",
      "\n",
      "Improving employee growth and development\n",
      "- Increase the manager-to-employee ratio, because currently managers don't have ti\n",
      "- Regularly move people to different managers - to benefit from different manageme\n",
      "- I wish we gave managers more support so they don't have to learn everything the \n",
      "- Assess managers based on how successfully their reports grow and improve and get\n",
      "- From a career growth perspective, my manager is totally absent.. She and I meet \n",
      "- If you have a weak manager, your career will stagnate until you move to a differ\n",
      "- After age 50, growth and development opportunities dry up and disappear, this is\n",
      "- My parents took sabbaticals every few years, it was a tremendous growth opportun\n"
     ]
    }
   ],
   "source": [
    "g_classifications = {}\n",
    "for class_name in g_classified_stickies.keys():\n",
    "    print( \"\\n\" + class_name )\n",
    "    g_classifications[ class_name ] = []\n",
    "    for sticky in g_classified_stickies[ class_name ]:\n",
    "        print( \"- \" + sticky[\"text\"][0:80] )\n",
    "        g_classifications[ class_name ].append( sticky[\"text\"] )"
   ]
  },
  {
   "cell_type": "code",
   "execution_count": null,
   "metadata": {},
   "outputs": [],
   "source": []
  },
  {
   "cell_type": "code",
   "execution_count": null,
   "metadata": {},
   "outputs": [],
   "source": []
  },
  {
   "cell_type": "markdown",
   "metadata": {},
   "source": [
    "<a id=\"step9\"></a>\n",
    "## Step 9: Cluster sticky notes in the mural\n",
    "- 9.1 Create pinwheel with a pie slice for each class\n",
    "- 9.2 Label each pie slice\n",
    "- 9.3 Move sticky notes into the appropriate slide by class"
   ]
  },
  {
   "cell_type": "markdown",
   "metadata": {},
   "source": [
    "### 9.1 Create pinwheel with a pie slice for each class"
   ]
  },
  {
   "cell_type": "code",
   "execution_count": 32,
   "metadata": {},
   "outputs": [
    {
     "data": {
      "text/plain": [
       "[{'class_name': 'Improving employee growth and development',\n",
       "  'start_angle': 30.0,\n",
       "  'end_angle': 150.0},\n",
       " {'class_name': 'Work-life balance and flexibility',\n",
       "  'start_angle': 150.0,\n",
       "  'end_angle': 270.0},\n",
       " {'class_name': 'Streamlining and optimizing processes',\n",
       "  'start_angle': 270.0,\n",
       "  'end_angle': 390.0}]"
      ]
     },
     "execution_count": 32,
     "metadata": {},
     "output_type": "execute_result"
    }
   ],
   "source": [
    "g_arcs_arr = hf.createArcs( g_class_names_arr )\n",
    "\n",
    "g_arcs_arr"
   ]
  },
  {
   "cell_type": "code",
   "execution_count": 33,
   "metadata": {},
   "outputs": [
    {
     "name": "stdout",
     "output_type": "stream",
     "text": [
      "Done!\n"
     ]
    }
   ],
   "source": [
    "time.sleep(5)\n",
    "\n",
    "# Quick!  After clicking Run on this cell, switch to \n",
    "# your browser tab where the mural is to see the change\n",
    "# ...\n",
    "\n",
    "error_str = hf.putArcs( g_auth_token, g_mural_id, g_arcs_arr )\n",
    "\n",
    "if error_str:\n",
    "    print( error_str )\n",
    "else:\n",
    "    print( \"Done!\" )"
   ]
  },
  {
   "cell_type": "markdown",
   "metadata": {},
   "source": [
    "### 9.2 Label each pie slice"
   ]
  },
  {
   "cell_type": "code",
   "execution_count": 34,
   "metadata": {},
   "outputs": [
    {
     "name": "stdout",
     "output_type": "stream",
     "text": [
      "Done!\n"
     ]
    }
   ],
   "source": [
    "time.sleep(5)\n",
    "\n",
    "# Quick!  After clicking Run on this cell, switch to \n",
    "# your browser tab where the mural is to see the change\n",
    "# ...\n",
    "\n",
    "error_str = hf.putClassNames( g_auth_token, g_mural_id, g_arcs_arr )\n",
    "\n",
    "if error_str:\n",
    "    print( error_str )\n",
    "else:\n",
    "    print( \"Done!\" )"
   ]
  },
  {
   "cell_type": "markdown",
   "metadata": {},
   "source": [
    "### 9.3 Move sticky notes into the appropriate slice by class"
   ]
  },
  {
   "cell_type": "code",
   "execution_count": 35,
   "metadata": {},
   "outputs": [
    {
     "name": "stdout",
     "output_type": "stream",
     "text": [
      "Done!\n"
     ]
    }
   ],
   "source": [
    "time.sleep(5)\n",
    "\n",
    "# Quick!  After clicking Run on this cell, switch to \n",
    "# your browser tab where the mural is to see the change\n",
    "# ...\n",
    "\n",
    "error_str = hf.moveStickiesToClassArcs( g_auth_token, g_mural_id, g_arcs_arr, g_classified_stickies )\n",
    "\n",
    "if error_str:\n",
    "    print( error_str )\n",
    "else:\n",
    "    print( \"Done!\" )"
   ]
  },
  {
   "cell_type": "markdown",
   "metadata": {},
   "source": [
    "Something like this:\n",
    "\n",
    "<img src=\"https://raw.githubusercontent.com/spackows/MURAL-API-Samples/main/images/sample-18_llm-summary_04.gif\" width=\"50%\" title=\"Image of a mural\" />"
   ]
  },
  {
   "cell_type": "code",
   "execution_count": null,
   "metadata": {},
   "outputs": [],
   "source": []
  },
  {
   "cell_type": "code",
   "execution_count": null,
   "metadata": {},
   "outputs": [],
   "source": []
  },
  {
   "cell_type": "markdown",
   "metadata": {},
   "source": [
    "<a id=\"step10\"></a>\n",
    "## Step 10: Summarize sticky note classes"
   ]
  },
  {
   "cell_type": "code",
   "execution_count": 36,
   "metadata": {},
   "outputs": [],
   "source": [
    "def summarizeStickies( classified_stickies ):\n",
    "    summaries = {}\n",
    "    for class_name in classified_stickies.keys():\n",
    "        messages_arr = []\n",
    "        for sticky in classified_stickies[ class_name ]:\n",
    "            messages_arr.append( sticky[\"text\"] )\n",
    "        summary = summarizeMessages( g_summarize_model_id, g_summarize_prompt_parameters, class_name, messages_arr )\n",
    "        summaries[ class_name ] = summary\n",
    "    return summaries"
   ]
  },
  {
   "cell_type": "code",
   "execution_count": 37,
   "metadata": {},
   "outputs": [
    {
     "data": {
      "text/plain": [
       "{'Streamlining and optimizing processes': \"It is recommended that the organization prioritize the optimization of processes to enhance efficiency, quality, and employee satisfaction. This can be achieved by implementing automated regression processes, dedicating specific periods for bug fixing, and simplifying the defect approval process. Moreover, streamlining the onboarding process and documenting processes can help reduce complexity and improve understanding among team members. Addressing these needs will not only improve the quality of work but also increase employee morale, productivity, and ultimately, the company's bottom line. By creating a more efficient and effective work environment, the organization can reduce the time spent on tedious tasks, allowing employees to focus on high-value activities that contribute to the company's success.\",\n",
       " 'Work-life balance and flexibility': \"It is recommended that the company provide more flexible work arrangements and support for employees' work-life balance. This can be achieved by offering remote work options without requiring justification, establishing a blanket rule against responding to emails outside regular working hours, and exploring the possibility of implementing a 4-day work week. Additionally, providing managers with specific training on managing remote employees and offering better support and understanding for parents juggling childcare can help create a more supportive and inclusive work environment. By addressing these needs, employees will be able to better manage their personal and professional responsibilities, leading to increased productivity, job satisfaction, and ultimately, the company's success and bottom line.\",\n",
       " 'Improving employee growth and development': \"It is recommended that the company implement measures to support employee growth and development, addressing the common themes of managerial support, career progression, and age-related opportunities. Increasing the manager-to-employee ratio and regularly rotating employees between managers can provide employees with diverse mentorship and learning opportunities. Providing additional support for managers can help them better guide their reports and prevent career derailment. Assessing managers based on their ability to develop and promote their team members can incentivize effective mentorship. Regular check-ins and sabbatical opportunities can also foster career growth and prevent stagnation. Addressing these needs can lead to increased employee satisfaction, retention, and productivity, ultimately benefiting the company's success and bottom line.\"}"
      ]
     },
     "execution_count": 37,
     "metadata": {},
     "output_type": "execute_result"
    }
   ],
   "source": [
    "g_summaries = summarizeStickies( g_classified_stickies )\n",
    "\n",
    "g_summaries"
   ]
  },
  {
   "cell_type": "code",
   "execution_count": null,
   "metadata": {},
   "outputs": [],
   "source": []
  },
  {
   "cell_type": "code",
   "execution_count": null,
   "metadata": {},
   "outputs": [],
   "source": []
  },
  {
   "cell_type": "markdown",
   "metadata": {},
   "source": [
    "<a id=\"step11\"></a>\n",
    "## Step 11: Generate HTML report"
   ]
  },
  {
   "cell_type": "code",
   "execution_count": 68,
   "metadata": {},
   "outputs": [],
   "source": [
    "g_llm_highlight_begin = \"<mark style=\\\"background-color: cream; padding: 1px 3px 1px 3px;\\\">\"\n",
    "g_llm_highlight_end = \"</mark>\"\n",
    "\n",
    "g_emp_highlight_begin = \"<mark style=\\\"background-color: #FFE6E8; padding: 1px 3px 1px 3px;\\\">\"\n",
    "g_emp_highlight_end = \"</mark>\"\n",
    "\n",
    "\n",
    "def reportIntro():\n",
    "    \n",
    "    report_html = \"\"\"\n",
    "<h1>Employee input report</h1>\n",
    "\n",
    "<div style=\"border: 1px solid lightgrey; margin-top: 30px; padding: 0px 20px 20px 20px;\">\n",
    "<h2>About this report</h2>\n",
    "<p>This report was compiled automatically and includes content from multiple sources:</p>\n",
    "<ul>\n",
    "<li>Verbatim comments from employees (<mark style=\\\"background-color: #FFE6E8; padding: 1px 3px 1px 3px;\\\">highlighted pink</mark>)</li>\n",
    "<li>Content that was generated by a large language model (<mark style=\\\"background-color: cream; padding: 1px 3px 1px 3px;\\\">highlighted yellow</mark>)</li>\n",
    "</ul>\n",
    "<p>See appendices A and B for details.</p>\n",
    "</div>\n",
    "\n",
    "\"\"\"\n",
    "    return report_html\n",
    "\n",
    "\n",
    "def reportThemes( class_names_arr ):\n",
    "    \n",
    "    report_html = \"<h2>Themes</h2>\\n\" + \\\n",
    "                  \"<p>The following themes emerged from the employee input:</p>\\n\" + \\\n",
    "                  \"<ul>\\n\"\n",
    "    \n",
    "    for class_name in class_names_arr:\n",
    "        report_html += \"<li>\" + g_llm_highlight_begin + class_name + g_llm_highlight_end + \"</li>\\n\"\n",
    "    \n",
    "    report_html += \"</ul>\\n\\n\"\n",
    "    \n",
    "    return report_html\n",
    "\n",
    "\n",
    "def recommendationSummaries( class_names_arr, summaries ):\n",
    "    \n",
    "    report_html = \"<h2>Recommendations by theme</h2>\\n\" + \\\n",
    "                  \"<dl>\\n\"\n",
    "    \n",
    "    for class_name in class_names_arr:\n",
    "        report_html += \"<dt><br/>\" + g_llm_highlight_begin + class_name + g_llm_highlight_end + \"</dt>\\n\" + \\\n",
    "                       \"<dd>\" + g_llm_highlight_begin + summaries[ class_name ] + g_llm_highlight_end + \"</dd>\\n\"\n",
    "    \n",
    "    report_html += \"</dl>\\n\\n\"\n",
    "    \n",
    "    return report_html\n",
    "\n",
    "\n",
    "def appendixA( class_names_arr, classifications ):\n",
    "    \n",
    "    report_html = \"<h2>Appendix A: Raw feedback messages</h2>\\n\"\n",
    "    \n",
    "    for class_name in class_names_arr:\n",
    "        \n",
    "        report_html += \"<h3>\" + g_llm_highlight_begin + class_name + g_llm_highlight_end + \"</h3>\\n\" + \\\n",
    "                       \"<ul>\\n\"\n",
    "        \n",
    "        for message in classifications[ class_name ]:\n",
    "            report_html += \"<li>\" + g_emp_highlight_begin + message + g_emp_highlight_end + \"</li>\\n\"\n",
    "            \n",
    "        report_html += \"</ul>\\n\"\n",
    "        \n",
    "    report_html += \"\\n\"\n",
    "    \n",
    "    return report_html\n",
    "\n",
    "\n",
    "def appendixBIntro():\n",
    "    \n",
    "    report_html = \"<h2>Appendix B: Generated content</h2>\\n\" + \\\n",
    "                  \"<p>Parts of this report were generated using large language models hosted in: \" + \\\n",
    "                  \"<a href=\\\"https://www.ibm.com/products/watsonx-ai\\\">IBM watsonx.ai</a></p>\\n\"\n",
    "\n",
    "    return report_html\n",
    "\n",
    "    \n",
    "def appendixBThemes( model_id, model_info_url, prompt_parameters, prompt_text ):\n",
    "    \n",
    "    report_html = \"<h3>Themes</h3>\\n\" + \\\n",
    "                  \"<p>Themes were generated using the following prompt details:</p>\\n\" + \\\n",
    "                  \"<ul>\\n\" + \\\n",
    "                  \"<li><b>Model</b> : <code>\" + model_id + \"</code> \" + \\\n",
    "                      \"(See: <a href=\\\"\" + model_info_url + \"\\\">Model details</a>)<br/>&nbsp;</li>\\n\" + \\\n",
    "                  \"<li><b>Parameters</b> : <pre>\" + \\\n",
    "                  json.dumps( prompt_parameters, indent=3 ) + \\\n",
    "                  \"</pre><br/></li>\\n\" + \\\n",
    "                  \"<li><b>Prompt text</b>\\n\" + \\\n",
    "                  \"<div style=\\\"background: whitesmoke;  margin-top: 14px; padding: 5px;\\\">\\n\" + \\\n",
    "                  re.sub( r\"\\n\", \"<br/>\", prompt_text ) + \"\\n\" + \\\n",
    "                  \"</div>\\n\" + \\\n",
    "                  \"</ul>\\n\\n\"\n",
    "\n",
    "    return report_html\n",
    "\n",
    "\n",
    "def appendixBClassification( model_id, model_info_url, prompt_parameters, prompt_text ):\n",
    "    \n",
    "    report_html = \"<h3>Classification</h3>\\n\" + \\\n",
    "                  \"<p>Employee input messages were classified by theme using the following prompt details:\\n\" + \\\n",
    "                  \"<ul>\\n\" + \\\n",
    "                  \"<li><b>Model</b> : <code>\" + model_id + \"</code> \" + \\\n",
    "                  \"(See: <a href=\\\"\" + model_info_url + \"\\\">Model details</a>)<br/>&nbsp;</li>\\n\" + \\\n",
    "                  \"<li><b>Parameters</b> : <pre>\" + \\\n",
    "                  json.dumps( prompt_parameters, indent=3 ) + \\\n",
    "                  \"</pre><br/></li>\\n\" + \\\n",
    "                  \"<li><b>Prompt text</b><br/>\\n\" + \\\n",
    "                  \"(The comma-separated list of theme names was substituted into the prompt as \" + \\\n",
    "                  \"well as each message, one at a time, to be classified.)\\n\" + \\\n",
    "                  \"<div style=\\\"background: whitesmoke;  margin-top: 14px; padding: 5px;\\\">\\n\" + \\\n",
    "                  re.sub( r\"\\n\", \"<br/>\", prompt_text ) + \"\\n\" + \\\n",
    "                  \"</div>\\n\" + \\\n",
    "                  \"</ul>\\n\\n\"\n",
    "\n",
    "    return report_html\n",
    "\n",
    "\n",
    "def appendixBSummary( model_id, model_info_url, prompt_parameters, prompt_text ):\n",
    "    \n",
    "    report_html = \"<h3>Summarization</h3>\\n\" + \\\n",
    "                  \"<p>Employee input messages in each theme were summarized using the following prompt details:\\n\" + \\\n",
    "                  \"<ul>\\n\" + \\\n",
    "                  \"<li><b>Model</b> : <code>\" + model_id + \"</code> \" + \\\n",
    "                  \"(See: <a href=\\\"\" + model_info_url + \"\\\">Model details</a>)<br/>&nbsp;</li>\\n\" + \\\n",
    "                  \"<li><b>Parameters</b> : <pre>\" + \\\n",
    "                  json.dumps( prompt_parameters, indent=3 ) + \\\n",
    "                  \"</pre><br/></li>\\n\" + \\\n",
    "                  \"<li><b>Prompt text</b><br/>\\n\" + \\\n",
    "                  \"(The following prompt was run for each theme.  Each time, the theme and message \" + \\\n",
    "                  \"classified as belonging to that them were substituted in the prompt.)\\n\" + \\\n",
    "                  \"<div style=\\\"background: whitesmoke; margin-top: 14px; padding: 5px;\\\">\\n\" + \\\n",
    "                  re.sub( r\"\\n\", \"<br/>\", prompt_text ) + \"\\n\" + \\\n",
    "                  \"</div>\\n\" + \\\n",
    "                  \"</ul>\\n\\n\"\n",
    "    \n",
    "    return report_html"
   ]
  },
  {
   "cell_type": "code",
   "execution_count": 72,
   "metadata": {},
   "outputs": [],
   "source": [
    "g_llama_model_info_url = \"https://huggingface.co/meta-llama/Llama-2-70b-chat\"\n",
    "g_flant5_model_info_url = \"https://huggingface.co/google/flan-t5-xxl\"\n",
    "\n",
    "html = reportIntro() + \\\n",
    "       reportThemes( g_class_names_arr ) + \\\n",
    "       recommendationSummaries( g_class_names_arr, g_summaries ) + \\\n",
    "       appendixA( g_class_names_arr, g_classifications ) + \\\n",
    "       appendixBIntro() + \\\n",
    "       appendixBThemes( g_themes_model_id, g_llama_model_info_url, g_themes_prompt_parameters, g_themes_test_prompt_text ) + \\\n",
    "       appendixBClassification( g_classify_model_id, g_flant5_model_info_url, g_classify_prompt_parameters, g_classify_test_prompt_text ) + \\\n",
    "       appendixBSummary( g_summarize_model_id, g_llama_model_info_url, g_summarize_prompt_parameters, g_summarize_test_prompt_text )"
   ]
  },
  {
   "cell_type": "code",
   "execution_count": 95,
   "metadata": {
    "scrolled": true
   },
   "outputs": [
    {
     "data": {
      "text/html": [
       "\n",
       "<h1>Employee input report</h1>\n",
       "\n",
       "<div style=\"border: 1px solid lightgrey; margin-top: 30px; padding: 0px 20px 20px 20px;\">\n",
       "<h2>About this report</h2>\n",
       "<p>This report was compiled automatically and includes content from multiple sources:</p>\n",
       "<ul>\n",
       "<li>Verbatim comments from emplyees (<mark style=\"background-color: #FFE6E8; padding: 1px 3px 1px 3px;\">highlighted pink</mark>)</li>\n",
       "<li>Content that was generated by a large language model (<mark style=\"background-color: cream; padding: 1px 3px 1px 3px;\">highlighted yellow</mark>)</li>\n",
       "</ul>\n",
       "<p>See appendices A and B for details.</p>\n",
       "</div>\n",
       "\n",
       "<h2>Themes</h2>\n",
       "<p>The following themes emerged from the employee input:</p>\n",
       "<ul>\n",
       "<li><mark style=\"background-color: cream; padding: 1px 3px 1px 3px;\">Improving employee growth and development</mark></li>\n",
       "<li><mark style=\"background-color: cream; padding: 1px 3px 1px 3px;\">Work-life balance and flexibility</mark></li>\n",
       "<li><mark style=\"background-color: cream; padding: 1px 3px 1px 3px;\">Streamlining and optimizing processes</mark></li>\n",
       "</ul>\n",
       "\n",
       "<h2>Recommendations by theme</h2>\n",
       "<dl>\n",
       "<dt><br/><mark style=\"background-color: cream; padding: 1px 3px 1px 3px;\">Improving employee growth and development</mark></dt>\n",
       "<dd><mark style=\"background-color: cream; padding: 1px 3px 1px 3px;\">It is recommended that the company implement measures to support employee growth and development, addressing the common themes of managerial support, career progression, and age-related opportunities. Increasing the manager-to-employee ratio and regularly rotating employees between managers can provide employees with diverse mentorship and learning opportunities. Providing additional support for managers can help them better guide their reports and prevent career derailment. Assessing managers based on their ability to develop and promote their team members can incentivize effective mentorship. Regular check-ins and sabbatical opportunities can also foster career growth and prevent stagnation. Addressing these needs can lead to increased employee satisfaction, retention, and productivity, ultimately benefiting the company's success and bottom line.</mark></dd>\n",
       "<dt><br/><mark style=\"background-color: cream; padding: 1px 3px 1px 3px;\">Work-life balance and flexibility</mark></dt>\n",
       "<dd><mark style=\"background-color: cream; padding: 1px 3px 1px 3px;\">It is recommended that the company provide more flexible work arrangements and support for employees' work-life balance. This can be achieved by offering remote work options without requiring justification, establishing a blanket rule against responding to emails outside regular working hours, and exploring the possibility of implementing a 4-day work week. Additionally, providing managers with specific training on managing remote employees and offering better support and understanding for parents juggling childcare can help create a more supportive and inclusive work environment. By addressing these needs, employees will be able to better manage their personal and professional responsibilities, leading to increased productivity, job satisfaction, and ultimately, the company's success and bottom line.</mark></dd>\n",
       "<dt><br/><mark style=\"background-color: cream; padding: 1px 3px 1px 3px;\">Streamlining and optimizing processes</mark></dt>\n",
       "<dd><mark style=\"background-color: cream; padding: 1px 3px 1px 3px;\">It is recommended that the organization prioritize the optimization of processes to enhance efficiency, quality, and employee satisfaction. This can be achieved by implementing automated regression processes, dedicating specific periods for bug fixing, and simplifying the defect approval process. Moreover, streamlining the onboarding process and documenting processes can help reduce complexity and improve understanding among team members. Addressing these needs will not only improve the quality of work but also increase employee morale, productivity, and ultimately, the company's bottom line. By creating a more efficient and effective work environment, the organization can reduce the time spent on tedious tasks, allowing employees to focus on high-value activities that contribute to the company's success.</mark></dd>\n",
       "</dl>\n",
       "\n",
       "<h2>Appendix A: Raw feedback messages</h2>\n",
       "<h3><mark style=\"background-color: cream; padding: 1px 3px 1px 3px;\">Improving employee growth and development</mark></h3>\n",
       "<ul>\n",
       "<li><mark style=\"background-color: #FFE6E8; padding: 1px 3px 1px 3px;\">Increase the manager-to-employee ratio, because currently managers don't have time for each person they manage</mark></li>\n",
       "<li><mark style=\"background-color: #FFE6E8; padding: 1px 3px 1px 3px;\">Regularly move people to different managers - to benefit from different management styles</mark></li>\n",
       "<li><mark style=\"background-color: #FFE6E8; padding: 1px 3px 1px 3px;\">I wish we gave managers more support so they don't have to learn everything the hard way - derailing peoples' careers along the way</mark></li>\n",
       "<li><mark style=\"background-color: #FFE6E8; padding: 1px 3px 1px 3px;\">Assess managers based on how successfully their reports grow and improve and get promoted</mark></li>\n",
       "<li><mark style=\"background-color: #FFE6E8; padding: 1px 3px 1px 3px;\">From a career growth perspective, my manager is totally absent.. She and I meet once a year for evaluations and otherwise I never see her!</mark></li>\n",
       "<li><mark style=\"background-color: #FFE6E8; padding: 1px 3px 1px 3px;\">If you have a weak manager, your career will stagnate until you move to a different team or company</mark></li>\n",
       "<li><mark style=\"background-color: #FFE6E8; padding: 1px 3px 1px 3px;\">After age 50, growth and development opportunities dry up and disappear, this is age-ism</mark></li>\n",
       "<li><mark style=\"background-color: #FFE6E8; padding: 1px 3px 1px 3px;\">My parents took sabbaticals every few years, it was a tremendous growth opportunity for them and they brought reviewed energy and new ideas back to work with them when they returned.  We should implement opportunities for sabbaticals too.</mark></li>\n",
       "</ul>\n",
       "<h3><mark style=\"background-color: cream; padding: 1px 3px 1px 3px;\">Work-life balance and flexibility</mark></h3>\n",
       "<ul>\n",
       "<li><mark style=\"background-color: #FFE6E8; padding: 1px 3px 1px 3px;\">Managers need specific training on how to manage remote employees</mark></li>\n",
       "<li><mark style=\"background-color: #FFE6E8; padding: 1px 3px 1px 3px;\">When people need flexible hours or time off, don't require them to specify a reason, because everyone's life has different pressures, no one reason is more legitimate than another, and not having to disclose would reduce bias and discrimination</mark></li>\n",
       "<li><mark style=\"background-color: #FFE6E8; padding: 1px 3px 1px 3px;\">Give everyone the ability to work from home with no questions asked, so no one has to explain personal details of their life (eg. physical or mental disability, burnout, or caring obligations)</mark></li>\n",
       "<li><mark style=\"background-color: #FFE6E8; padding: 1px 3px 1px 3px;\">Establish a blanket rule that nobody is required to respond to emails outside regular working hours</mark></li>\n",
       "<li><mark style=\"background-color: #FFE6E8; padding: 1px 3px 1px 3px;\">We should explore the 4-day work week</mark></li>\n",
       "<li><mark style=\"background-color: #FFE6E8; padding: 1px 3px 1px 3px;\">We need better support and understanding for parents juggling childcare</mark></li>\n",
       "</ul>\n",
       "<h3><mark style=\"background-color: cream; padding: 1px 3px 1px 3px;\">Streamlining and optimizing processes</mark></h3>\n",
       "<ul>\n",
       "<li><mark style=\"background-color: #FFE6E8; padding: 1px 3px 1px 3px;\">We need to focus more on automated regression processes to improve quality</mark></li>\n",
       "<li><mark style=\"background-color: #FFE6E8; padding: 1px 3px 1px 3px;\">Our development process should devote 1 week out of every 8 to only fixing bugs</mark></li>\n",
       "<li><mark style=\"background-color: #FFE6E8; padding: 1px 3px 1px 3px;\">Streamline our defect approval process because it's too time-consuming and tedious</mark></li>\n",
       "<li><mark style=\"background-color: #FFE6E8; padding: 1px 3px 1px 3px;\">Onboarding new team members takes ages because our processes are so complex</mark></li>\n",
       "<li><mark style=\"background-color: #FFE6E8; padding: 1px 3px 1px 3px;\">Our processes are not documented.. one or two of our senior people are the only ones to really understand everything</mark></li>\n",
       "<li><mark style=\"background-color: #FFE6E8; padding: 1px 3px 1px 3px;\">The defect process is so time-consuming that nobody reports bugs</mark></li>\n",
       "<li><mark style=\"background-color: #FFE6E8; padding: 1px 3px 1px 3px;\">We should streamline our processes</mark></li>\n",
       "</ul>\n",
       "\n",
       "<h2>Appendix B: Generated content</h2>\n",
       "<p>Parts of this report were generated using large language models hosted in: <a href=\"https://www.ibm.com/products/watsonx-ai\">IBM watsonx.ai</a></p>\n",
       "<h3>Themes</h3>\n",
       "<p>Themes were generated using the following prompt details:</p>\n",
       "<ul>\n",
       "<li><b>Model</b> : <code>meta-llama/llama-2-70b-chat</code> (See: <a href=\"https://huggingface.co/meta-llama/Llama-2-70b-chat\">Model details</a>)<br/>&nbsp;</li>\n",
       "<li><b>Parameters</b> : <pre>{\n",
       "   \"decoding_method\": \"greedy\",\n",
       "   \"min_new_tokens\": 0,\n",
       "   \"max_new_tokens\": 60,\n",
       "   \"stop_sequences\": [\n",
       "      \"\\n\\n\"\n",
       "   ]\n",
       "}</pre><br/></li>\n",
       "<li><b>Prompt text</b>\n",
       "<div style=\"background: whitesmoke;  margin-top: 14px; padding: 5px;\">\n",
       "The following meals fall into three broad themes:<br/>- Spaghetti with meatballs<br/>- Vegetarian sub<br/>- Shrimp pad thai<br/>- Fish fingers<br/>- Falafel<br/>- Steak and kidney pie<br/><br/>Three themes in the list of meals:<br/>- Meat<br/>- Vegetarian<br/>- Seafood<br/><br/><br/>The following animals fall into three broad themes:<br/>- Cow<br/>- Chicken<br/>- Dog<br/>- Giraffe<br/>- Gerbil<br/>- Elephant<br/><br/>Three themes in the list of animals:<br/>- Pet<br/>- Farm<br/>- Wild<br/><br/><br/>The following process feedback ideas fall into three broad themes:<br/>- We need to focus more on automated regression processes to improve quality<br/>- Our development process should devote 1 week out of every 8 to only fixing bugs<br/>- Streamline our defect approval process because it's too time-consuming and tedious<br/>- Onboarding new team members takes ages because our processes are so complex<br/>- Our processes are not documented.. one or two of our senior people are the only ones to really understand everything<br/>- The defect process is so time-consuming that nobody reports bugs<br/>- We should streamline our processes<br/>- Managers need specific training on how to manage remote employees<br/>- Increase the manager-to-employee ratio, because currently managers don't have time for each person they manage<br/>- Regularly move people to different managers - to benefit from different management styles<br/>- I wish we gave managers more support so they don't have to learn everything the hard way - derailing peoples' careers along the way<br/>- Assess managers based on how successfully their reports grow and improve and get promoted<br/>- From a career growth perspective, my manager is totally absent.. She and I meet once a year for evaluations and otherwise I never see her!<br/>- If you have a weak manager, your career will stagnate until you move to a different team or company<br/>- When people need flexible hours or time off, don't require them to specify a reason, because everyone's life has different pressures, no one reason is more legitimate than another, and not having to disclose would reduce bias and discrimination<br/>- Give everyone the ability to work from home with no questions asked, so no one has to explain personal details of their life (eg. physical or mental disability, burnout, or caring obligations)<br/>- Establish a blanket rule that nobody is required to respond to emails outside regular working hours<br/>- After age 50, growth and development opportunities dry up and disappear, this is age-ism<br/>- We should explore the 4-day work week<br/>- My parents took sabbaticals every few years, it was a tremendous growth opportunity for them and they brought reviewed energy and new ideas back to work with them when they returned.  We should implement opportunities for sabbaticals too.<br/>- We need better support and understanding for parents juggling childcare<br/><br/>Think past what each idea mentions and consider larger patterns across the ideas.<br/><br/>Three themes that get at the essence of the list of process feedback ideas:<br/>\n",
       "</div>\n",
       "</ul>\n",
       "\n",
       "<h3>Classification</h3>\n",
       "<p>Employee input messages were classified by theme using the following prompt details:\n",
       "<ul>\n",
       "<li><b>Model</b> : <code>google/flan-t5-xxl</code> (See: <a href=\"https://huggingface.co/google/flan-t5-xxl\">Model details</a>)<br/>&nbsp;</li>\n",
       "<li><b>Parameters</b> : <pre>{\n",
       "   \"decoding_method\": \"greedy\",\n",
       "   \"min_new_tokens\": 0,\n",
       "   \"max_new_tokens\": 20\n",
       "}</pre><br/></li>\n",
       "<li><b>Prompt text</b><br/>\n",
       "(The comma-separated list of theme names was substituted into the prompt as well as each message, one at a time, to be classified.)\n",
       "<div style=\"background: whitesmoke;  margin-top: 14px; padding: 5px;\">\n",
       "Classify the message into one of three classes: Improving employee growth and development, Work-life balance and flexibility, Streamlining and optimizing processes<br/><br/>If the message doesn't fit any of the classes, say \"Other\"<br/><br/>Message: I think we should record our meetings so they could be played back<br/>Class: <br/>\n",
       "</div>\n",
       "</ul>\n",
       "\n",
       "<h3>Summarization</h3>\n",
       "<p>Employee input messages in each theme were summarized using the following prompt details:\n",
       "<ul>\n",
       "<li><b>Model</b> : <code>meta-llama/llama-2-70b-chat</code> (See: <a href=\"https://huggingface.co/meta-llama/Llama-2-70b-chat\">Model details</a>)<br/>&nbsp;</li>\n",
       "<li><b>Parameters</b> : <pre>{\n",
       "   \"decoding_method\": \"sample\",\n",
       "   \"random_seed\": 2788563498,\n",
       "   \"temperature\": 0.7,\n",
       "   \"top_k\": 50,\n",
       "   \"top_p\": 1,\n",
       "   \"repetition_penalty\": 1,\n",
       "   \"stop_sequences\": [\n",
       "      \"\\n\\n\"\n",
       "   ],\n",
       "   \"min_new_tokens\": 0,\n",
       "   \"max_new_tokens\": 240\n",
       "}</pre><br/></li>\n",
       "<li><b>Prompt text</b><br/>\n",
       "(The following prompt was run for each theme.  Each time, the theme and message classified as belonging to that them were substituted in the prompt.)\n",
       "<div style=\"background: whitesmoke; margin-top: 14px; padding: 5px;\">\n",
       "You are a management consultant hired to advice business leaders based on input from employees.<br/><br/>The following employee input is related to streamlining and optimizing processes:<br/>- We need to focus more on automated regression processes to improve quality<br/>- Our development process should devote 1 week out of every 8 to only fixing bugs<br/>- Streamline our defect approval process because it's too time-consuming and tedious<br/>- Onboarding new team members takes ages because our processes are so complex<br/>- Our processes are not documented.. one or two of our senior people are the only ones to really understand everything<br/>- The defect process is so time-consuming that nobody reports bugs<br/>- We should streamline our processes<br/><br/>Write a one paragraph recommendation to company leaders based on only the employee input.  Take into account as much feedback as possible.  Identify common patterns across ideas.  Reflect the underlying human factors and needs of the employee input.  Explain how addressing these needs will benefit the company's success and bottom line.  Do not suggest ideas that are not listed in the employee ideas.  Use passive voice and do not refer to yourself; for example, say \"it is recommended\" instead of \"we recommend\".<br/><br/>Recommendation:<br/>\n",
       "</div>\n",
       "</ul>\n",
       "\n"
      ],
      "text/plain": [
       "<IPython.core.display.HTML object>"
      ]
     },
     "metadata": {},
     "output_type": "display_data"
    }
   ],
   "source": [
    "from IPython.display import display, HTML\n",
    "\n",
    "display( HTML( html ) )"
   ]
  },
  {
   "cell_type": "code",
   "execution_count": null,
   "metadata": {},
   "outputs": [],
   "source": []
  },
  {
   "cell_type": "code",
   "execution_count": null,
   "metadata": {},
   "outputs": [],
   "source": []
  }
 ],
 "metadata": {
  "kernelspec": {
   "display_name": "Python 3.10",
   "language": "python",
   "name": "python3"
  },
  "language_info": {
   "codemirror_mode": {
    "name": "ipython",
    "version": 3
   },
   "file_extension": ".py",
   "mimetype": "text/x-python",
   "name": "python",
   "nbconvert_exporter": "python",
   "pygments_lexer": "ipython3",
   "version": "3.10.13"
  }
 },
 "nbformat": 4,
 "nbformat_minor": 1
}
