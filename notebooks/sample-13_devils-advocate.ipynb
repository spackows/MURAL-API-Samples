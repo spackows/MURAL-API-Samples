{
 "cells": [
  {
   "cell_type": "markdown",
   "metadata": {},
   "source": [
    "# Use a large language model to play the role of devil's advocate\n",
    "\n",
    "This notebook demonstrates how to:\n",
    "- Read proposed plans from a mural\n",
    "- For each plan, prompt a large language model to generate arguments against the plan\n",
    "- Post the arguments in the mural\n",
    "\n",
    "Notebook sections:\n",
    "\n",
    "**Section A - Explore prompting large languge models**\n",
    "- [Step 1: Set up IBM watsonx.ai foundation model Python library prerequisites](#step1)\n",
    "- [Step 2: Create a function for prompting a model to generate arguments](#step2)\n",
    "\n",
    "**Section B - Set up your mural**\n",
    "- [Step 3: Set up MURAL prerequisites](#step3)\n",
    "- [Step 4: Read plans from your mural](#step4)\n",
    "\n",
    "**Section C - Generate and post arguments**\n",
    "- [Step 5: Generate arguments against the plans](#step5)\n",
    "- [Step 6: Post arguments into the mural](#step6)\n",
    "\n",
    "When you run this notebook, your mural will look something like the following image:\n",
    "\n",
    "<img src=\"https://raw.githubusercontent.com/spackows/MURAL-API-Samples/main/images/sample-13_devils-advocate_02.png\" width=\"50%\" title=\"Image of a mural\" />"
   ]
  },
  {
   "cell_type": "code",
   "execution_count": null,
   "metadata": {},
   "outputs": [],
   "source": []
  },
  {
   "cell_type": "code",
   "execution_count": null,
   "metadata": {},
   "outputs": [],
   "source": []
  },
  {
   "cell_type": "markdown",
   "metadata": {},
   "source": [
    "# Section A - Explore prompting large languge models\n",
    "\n",
    "<p>&nbsp;</p>\n",
    "\n",
    "<img src=\"https://raw.githubusercontent.com/spackows/MURAL-API-Samples/main/images/sample-13_devils-advocate_05.png\" width=\"50%\" title=\"Image of a mural\" />"
   ]
  },
  {
   "cell_type": "markdown",
   "metadata": {},
   "source": [
    "<a id=\"step1\"></a>\n",
    "## Step 1: Set up IBM watsonx.ai foundation model Python library prerequisites\n",
    "Before you can prompt a foundation model in watsonx.ai, you must perform the following setup tasks:\n",
    "- 1.1 Create an instance of the Watson Machine Learning service\n",
    "- 1.2 Associate the Watson Machine Learning instance with the current project\n",
    "- 1.3 Create an IBM Cloud API key\n",
    "- 1.4 Create a credentials dictionary for Watson Machine learning\n",
    "- 1.5 Look up the current project ID"
   ]
  },
  {
   "cell_type": "markdown",
   "metadata": {},
   "source": [
    "### 1.1 Create an instance of the Watson Machine Learning service\n",
    "If you don't already have an instance of the IBM Watson Machine Learning service, you can create an instance of the service from the IBM Cloud catalog: <a href=\"https://console.ng.bluemix.net/catalog/services/ibm-watson-machine-learning/\" target=\"_blank\">Watson Machine Learning service</a>"
   ]
  },
  {
   "cell_type": "markdown",
   "metadata": {},
   "source": [
    "### 1.2 Associate an instance of the Watson Machine Learning service with the current project\n",
    "The _current project_ is the project in which you are running this notebook.\n",
    "\n",
    "If an instance of Watson Machine Learning is not already associated with the current project, follow the instructions in this topic to do so: <a href=\"https://dataplatform.cloud.ibm.com/docs/content/wsj/getting-started/assoc-services.html?context=wx&audience=wdp\" target=\"_blank\">Adding associated services to a project</a>"
   ]
  },
  {
   "cell_type": "markdown",
   "metadata": {},
   "source": [
    "### 1.3 Create an IBM Cloud API key\n",
    "Create an IBM Cloud API key by following these instruction: <a href=\"https://cloud.ibm.com/docs/account?topic=account-userapikey&interface=ui#create_user_key\" target=\"_blank\">Creating an IBM Cloud API key</a>\n",
    "\n",
    "Then paste your new IBM Cloud API key in the code cell below."
   ]
  },
  {
   "cell_type": "code",
   "execution_count": 1,
   "metadata": {},
   "outputs": [],
   "source": [
    "g_cloud_apikey = \"\""
   ]
  },
  {
   "cell_type": "markdown",
   "metadata": {},
   "source": [
    "### 1.4 Create a credentials dictionary for Watson Machine learning\n",
    "See: [Authentication](https://ibm.github.io/watson-machine-learning-sdk/setup_cloud.html#authentication)"
   ]
  },
  {
   "cell_type": "code",
   "execution_count": 2,
   "metadata": {},
   "outputs": [],
   "source": [
    "# See: https://ibm.github.io/watson-machine-learning-sdk/setup_cloud.html#authentication\n",
    "g_wml_credentials = { \n",
    "    \"url\"    : \"https://us-south.ml.cloud.ibm.com\", \n",
    "    \"apikey\" : g_cloud_apikey\n",
    "}"
   ]
  },
  {
   "cell_type": "markdown",
   "metadata": {},
   "source": [
    "### 1.5 Look up the current project ID\n",
    "The _current project_ is the project in which you are running this notebook.  You can get the ID of the current project programmatically by running the following cell."
   ]
  },
  {
   "cell_type": "code",
   "execution_count": 3,
   "metadata": {},
   "outputs": [],
   "source": [
    "import os\n",
    "\n",
    "g_project_id = os.environ[\"PROJECT_ID\"]"
   ]
  },
  {
   "cell_type": "code",
   "execution_count": null,
   "metadata": {},
   "outputs": [],
   "source": []
  },
  {
   "cell_type": "code",
   "execution_count": null,
   "metadata": {},
   "outputs": [],
   "source": []
  },
  {
   "cell_type": "markdown",
   "metadata": {},
   "source": [
    "<a id=\"step2\"></a>\n",
    "## Step 2: Create a function for prompting a model to generate arguments\n",
    "- 2.1 Experiment in Prompt Lab\n",
    "- 2.2 Specify your selected model ID, prompt parameters, and prompt text template\n",
    "- 2.2 Define a function to generate a list of arguments against a given plan"
   ]
  },
  {
   "cell_type": "markdown",
   "metadata": {},
   "source": [
    "### 2.1 Experiment in Prompt Lab \n",
    "The Prompt Lab in watsonx.ai is a graphical interface for experimenting with prompting foundation models.\n",
    "\n",
    "Experiment in Prompt Lab to discover what works best:\n",
    "- Which model returns ideal results\n",
    "- What parameter settings (eg. decoding) work best\n",
    "- What prompt text causes the model to respond the way you want\n",
    "\n",
    "See: [Prompt Lab](https://dataplatform.cloud.ibm.com/docs/content/wsj/analyze-data/fm-prompt-lab.html?context=wx&audience=wdp)"
   ]
  },
  {
   "cell_type": "markdown",
   "metadata": {},
   "source": [
    "### 2.2 Specify your selected model_id, prompt parameters, and prompt text template\n",
    "In the following three cells, there are example model ID, prompt parameters, and prompt text template you can use.\n",
    "\n",
    "Replace any of these with values you discovered while experimenting in Prompt Lab."
   ]
  },
  {
   "cell_type": "code",
   "execution_count": 4,
   "metadata": {},
   "outputs": [],
   "source": [
    "# Example models:\n",
    "#\n",
    "# google/flan-ul2\n",
    "# google/flan-t5-xxl\n",
    "# bigscience/mt0-xxl\n",
    "# eleutherai/gpt-neox-20b\n",
    "# ibm/granite-13b-instruct-v1\n",
    "\n",
    "g_model_id = \"ibm/granite-13b-instruct-v1\""
   ]
  },
  {
   "cell_type": "code",
   "execution_count": 5,
   "metadata": {},
   "outputs": [],
   "source": [
    "g_prompt_parameters = {\n",
    "    \"decoding_method\": \"sample\",\n",
    "    \"max_new_tokens\": 200,\n",
    "    \"min_new_tokens\": 0,\n",
    "    \"random_seed\": 1683314208,\n",
    "    \"stop_sequences\": [ \"\\n\\n\" ],\n",
    "    \"temperature\": 0.7,\n",
    "    \"top_k\": 50,\n",
    "    \"top_p\": 1,\n",
    "    \"repetition_penalty\": 1.0\n",
    "}"
   ]
  },
  {
   "cell_type": "markdown",
   "metadata": {},
   "source": [
    "**NOTE**\n",
    "\n",
    "In the following example template, notice the use of `%s` as a placeholder for the plan description. \n",
    "\n",
    "If you replace this template with a prompt you discovered through your experiments in Prompt Lab, remember to include a placeholder for the plan description."
   ]
  },
  {
   "cell_type": "code",
   "execution_count": 6,
   "metadata": {},
   "outputs": [],
   "source": [
    "g_prompt_template = \"\"\"You are playing the role of devil's advocate.  Argue against the proposed plan. List 4 detailed, unique, compelling reason why moving forward with the plan would be a bad choice.  Consider all types of risks. Do not repeat answers.\n",
    "\n",
    "Plan we are considering: \n",
    "Extend our store hours.\n",
    "Four problems with this plan are:\n",
    "1. We'll have to pay more for staffing\n",
    "2. Risk of theft increases late at night\n",
    "3. Clerks might not want to work later hours\n",
    "4. Changing hours could cause confusion\n",
    "\n",
    "Plan we are considering: \n",
    "Open a second location for our business.\n",
    "Four problems with this plan are:\n",
    "1. Managing two locations will more than twice as time-consuming as managing just one\n",
    "2. Creating a new location doesn't guarantee twice as many customers\n",
    "3. Customers might be confused by there being two locations\n",
    "4. Having two locations dilutes the uniqueness of the store's brand\n",
    "\n",
    "Plan we are considering: %s\n",
    "Four problems with this plan are:\n",
    "\"\"\"\n",
    "\n",
    "def createPromptText( plan_text ):\n",
    "    return g_prompt_template % ( plan_text )"
   ]
  },
  {
   "cell_type": "code",
   "execution_count": 7,
   "metadata": {},
   "outputs": [
    {
     "name": "stdout",
     "output_type": "stream",
     "text": [
      "You are playing the role of devil's advocate.  Argue against the proposed plan. List 4 detailed, unique, compelling reason why moving forward with the plan would be a bad choice.  Consider all types of risks. Do not repeat answers.\n",
      "\n",
      "Plan we are considering: \n",
      "Extend our store hours.\n",
      "Four problems with this plan are:\n",
      "1. We'll have to pay more for staffing\n",
      "2. Risk of theft increases late at night\n",
      "3. Clerks might not want to work later hours\n",
      "4. Changing hours could cause confusion\n",
      "\n",
      "Plan we are considering: \n",
      "Open a second location for our business.\n",
      "Four problems with this plan are:\n",
      "1. Managing two locations will more than twice as time-consuming as managing just one\n",
      "2. Creating a new location doesn't guarantee twice as many customers\n",
      "3. Customers might be confused by there being two locations\n",
      "4. Having two locations dilutes the uniqueness of the store's brand\n",
      "\n",
      "Plan we are considering: Build an addition on the store to have more room to display merchandise\n",
      "Four problems with this plan are:\n",
      "\n"
     ]
    }
   ],
   "source": [
    "g_test_plan = \"Build an addition on the store to have more room to display merchandise\"\n",
    "g_test_prompt_text = createPromptText( g_test_plan )\n",
    "print( g_test_prompt_text )"
   ]
  },
  {
   "cell_type": "markdown",
   "metadata": {},
   "source": [
    "### 2.3 Define a function to generate a list of arguments against a given plan\n",
    "You can prompt foundation models in IBM watsonx.ai programmatically using the foundation models Python library.\n",
    "\n",
    "See:\n",
    "- <a href=\"https://dataplatform.cloud.ibm.com/docs/content/wsj/analyze-data/fm-python-lib.html?context=wx&audience=wdp\" target=\"_blank\">Introduction to the foundation models Python library</a>\n",
    "- <a href=\"https://ibm.github.io/watson-machine-learning-sdk/foundation_models.html\" target=\"_blank\">Foundation models Python library reference</a>"
   ]
  },
  {
   "cell_type": "markdown",
   "metadata": {},
   "source": [
    "Testing the library:"
   ]
  },
  {
   "cell_type": "code",
   "execution_count": 8,
   "metadata": {},
   "outputs": [
    {
     "name": "stdout",
     "output_type": "stream",
     "text": [
      "{\n",
      "   \"model_id\": \"ibm/granite-13b-instruct-v1\",\n",
      "   \"created_at\": \"2023-10-02T18:55:19.273Z\",\n",
      "   \"results\": [\n",
      "      {\n",
      "         \"generated_text\": \"1. It will be expensive\\n2. Construction will likely interfere with business\\n3. There is no guarantee that having more room to display products will result in more sales\\n4. There are other ways to grow sales without more room\",\n",
      "         \"generated_token_count\": 48,\n",
      "         \"input_token_count\": 229,\n",
      "         \"stop_reason\": \"EOS_TOKEN\",\n",
      "         \"seed\": 1683314208\n",
      "      }\n",
      "   ]\n",
      "}\n"
     ]
    }
   ],
   "source": [
    "from ibm_watson_machine_learning.foundation_models import Model\n",
    "import json\n",
    "\n",
    "test_model = Model( g_model_id, g_wml_credentials, g_prompt_parameters, g_project_id )\n",
    "\n",
    "test_response = test_model.generate( g_test_prompt_text )\n",
    "\n",
    "print( json.dumps( test_response, indent=3 ) )"
   ]
  },
  {
   "cell_type": "markdown",
   "metadata": {},
   "source": [
    "Defining a function:"
   ]
  },
  {
   "cell_type": "code",
   "execution_count": 9,
   "metadata": {},
   "outputs": [],
   "source": [
    "import re\n",
    "\n",
    "def generate( model_id, prompt_parameters, prompt_text, b_debug=False ):\n",
    "    model = Model( model_id, g_wml_credentials, prompt_parameters, g_project_id )\n",
    "    raw_response = model.generate( prompt_text )\n",
    "    if b_debug:\n",
    "        print( \"\\nraw_response:\\n\" + json.dumps( raw_response, indent=3 ) )\n",
    "    if ( \"results\" in raw_response ) \\\n",
    "       and ( len( raw_response[\"results\"] ) > 0 ) \\\n",
    "       and ( \"generated_text\" in raw_response[\"results\"][0] ):\n",
    "        return raw_response, raw_response[\"results\"][0][\"generated_text\"]\n",
    "    else:\n",
    "        print( \"\\nThe model failed to generate an answer\" )\n",
    "        print( \"\\nDebug info:\\n\" + json.dumps( raw_response, indent=3 ) )\n",
    "        return raw_response, \"\"\n",
    "\n",
    "def listArgumentsAgainst( model_id, prompt_parameters, plan_text, b_debug=False ):\n",
    "    prompt_text = createPromptText( plan_text )\n",
    "    raw_response, generated_output = generate( model_id, prompt_parameters, prompt_text, b_debug )\n",
    "    arguments_arr = re.findall( r\"\\d+\\..*\", generated_output )\n",
    "    if len( arguments_arr ) < 4:\n",
    "        print( \"Failed to generate four arguments\")\n",
    "        print( \"Raw model output:\\n\" + json.dumps( raw_response, indent=3 ) )\n",
    "        return None\n",
    "    for i in range( len( arguments_arr ) ):\n",
    "        arguments_arr[i] = re.sub( r\"^\\d+\\.\\s+\", \"\", arguments_arr[i] )\n",
    "    return arguments_arr"
   ]
  },
  {
   "cell_type": "code",
   "execution_count": 10,
   "metadata": {},
   "outputs": [
    {
     "name": "stdout",
     "output_type": "stream",
     "text": [
      "[\n",
      "   \"It will be expensive\",\n",
      "   \"Construction will likely interfere with business\",\n",
      "   \"There is no guarantee that having more room to display products will result in more sales\",\n",
      "   \"There are other ways to grow sales without more room\"\n",
      "]\n"
     ]
    }
   ],
   "source": [
    "arguments_arr = listArgumentsAgainst( g_model_id, g_prompt_parameters, g_test_plan )\n",
    "if arguments_arr is not None:\n",
    "    print( json.dumps( arguments_arr, indent=3 ) )"
   ]
  },
  {
   "cell_type": "code",
   "execution_count": null,
   "metadata": {},
   "outputs": [],
   "source": []
  },
  {
   "cell_type": "code",
   "execution_count": null,
   "metadata": {},
   "outputs": [],
   "source": []
  },
  {
   "cell_type": "markdown",
   "metadata": {},
   "source": [
    "# Section B - Set up your mural\n",
    "\n",
    "<p>&nbsp;</p>\n",
    "\n",
    "<img src=\"https://raw.githubusercontent.com/spackows/MURAL-API-Samples/main/images/sample-13_devils-advocate_04.png\" width=\"50%\" title=\"Image of a mural\" />"
   ]
  },
  {
   "cell_type": "markdown",
   "metadata": {},
   "source": [
    "<a id=\"step3\"></a>\n",
    "## Step 3: Set up MURAL prerequisites\n",
    "- 3.1 Create empty, sample mural\n",
    "- 3.2 Collect mural ID\n",
    "- 3.3 Get Oauth token\n",
    "- 3.4 Populate mural"
   ]
  },
  {
   "cell_type": "markdown",
   "metadata": {},
   "source": [
    "### 3.1 Create empty, sample mural\n",
    "In the MURAL web interface, create a new, empty mural."
   ]
  },
  {
   "cell_type": "markdown",
   "metadata": {},
   "source": [
    "### 3.2 Collect mural ID\n",
    "You can find the mural ID in the url of a mural.\n",
    "\n",
    "Mural urls look something like this:\n",
    "\n",
    "```\n",
    "https://app.mural.co/t/<workspace>/m/<workspace>/<id>/...\n",
    "```\n",
    "\n",
    "What you need to pass to the MURAL API is just after the `/m/`: the \\<workspace> and the \\<id>.  And you need to join then with a period.\n",
    "\n",
    "For example, if you have a mural with this url:\n",
    "\n",
    "```\n",
    "https://app.mural.co/t/teamideas1234/m/teamideas1234/1234567890123/...\n",
    "```\n",
    "\n",
    "Then, the mural ID is: `teamideas1234.1234567890123`"
   ]
  },
  {
   "cell_type": "code",
   "execution_count": 11,
   "metadata": {},
   "outputs": [],
   "source": [
    "g_mural_id = \"\""
   ]
  },
  {
   "cell_type": "markdown",
   "metadata": {},
   "source": [
    "### 3.3 Collect OAuth token"
   ]
  },
  {
   "cell_type": "code",
   "execution_count": 43,
   "metadata": {},
   "outputs": [],
   "source": [
    "g_auth_token = \"\""
   ]
  },
  {
   "cell_type": "markdown",
   "metadata": {},
   "source": [
    "### 3.4 Populate mural"
   ]
  },
  {
   "cell_type": "code",
   "execution_count": 15,
   "metadata": {},
   "outputs": [],
   "source": [
    "import urllib\n",
    "import json\n",
    "\n",
    "url = \"https://raw.githubusercontent.com/spackows/MURAL-API-Samples/main/murals/sample-13_devils-advocate.json\"\n",
    "response = urllib.request.urlopen( url )\n",
    "encoding = response.info().get_content_charset( \"utf8\" )\n",
    "sample_widgets_arr = json.loads( response.read().decode( encoding ) )"
   ]
  },
  {
   "cell_type": "code",
   "execution_count": 22,
   "metadata": {},
   "outputs": [],
   "source": [
    "import requests\n",
    "import copy\n",
    "\n",
    "def putWidget( auth_token, mural_id, widget ):\n",
    "    # https://developers.mural.co/public/reference/createstickynote\n",
    "    # https://developers.mural.co/public/reference/createtextbox\n",
    "    # https://developers.mural.co/public/reference/createarrow\n",
    "    widget_type = \"textbox\" if ( \"text\" == widget[\"type\"] ) else widget[\"type\"]\n",
    "    url = \"https://app.mural.co/api/public/v1/murals/\" + mural_id + \"/widgets/\" + re.sub( \"\\s+\", \"-\", widget_type )\n",
    "    headers = { \"Accept\"        : \"application/json\", \n",
    "                \"Content-Type\"  : \"application/json\", \n",
    "                \"Authorization\" : \"Bearer \" + auth_token }\n",
    "    parms = copy.deepcopy( widget )\n",
    "    if \"id\" in parms:\n",
    "        del parms[\"id\"]\n",
    "    if \"type\" in parms:\n",
    "        del parms[\"type\"]\n",
    "    #if \"style\" in parms:\n",
    "    #    del parms[\"style\"]\n",
    "    response = requests.request( \"POST\", url, headers = headers, json = parms )\n",
    "    response_json = json.loads( response.text )\n",
    "    msg = \"\"\n",
    "    if \"code\" in response_json:\n",
    "        msg += response_json[\"code\"] + \" \"\n",
    "    if \"message\" in response_json:\n",
    "        msg += response_json[\"message\"]\n",
    "    if msg != \"\":\n",
    "        print( \"[ \" + widget[\"id\"] + \" ] \" + msg )\n",
    "    else:\n",
    "        print( \"[ \" + widget[\"id\"] + \" ] Success\" )"
   ]
  },
  {
   "cell_type": "code",
   "execution_count": null,
   "metadata": {},
   "outputs": [],
   "source": [
    "for widget in sample_widgets_arr:\n",
    "    putWidget( g_auth_token, g_mural_id, widget )"
   ]
  },
  {
   "cell_type": "code",
   "execution_count": null,
   "metadata": {},
   "outputs": [],
   "source": []
  },
  {
   "cell_type": "code",
   "execution_count": null,
   "metadata": {},
   "outputs": [],
   "source": []
  },
  {
   "cell_type": "markdown",
   "metadata": {},
   "source": [
    "<a id=\"step4\"></a>\n",
    "## Step 4: Read plans from your mural\n",
    "- 4.1 Read widgets from the mural\n",
    "- 4.2 Establish mural coordinates"
   ]
  },
  {
   "cell_type": "markdown",
   "metadata": {},
   "source": [
    "### 4.1 Read widgets from the mural"
   ]
  },
  {
   "cell_type": "code",
   "execution_count": 24,
   "metadata": {},
   "outputs": [],
   "source": [
    "import requests\n",
    "\n",
    "def listWidgets( auth_token, mural_id ):\n",
    "    # https://developers.mural.co/public/reference/getmuralwidgets\n",
    "    url = \"https://app.mural.co/api/public/v1/murals/\" + mural_id + \"/widgets\"\n",
    "    headers = { \"Accept\": \"application/json\", \"Authorization\": \"Bearer \" + auth_token }\n",
    "    response = requests.request( \"GET\", url, headers = headers )\n",
    "    response_json = json.loads( response.text )\n",
    "    msg = \"\"\n",
    "    if \"code\" in response_json:\n",
    "        msg += response_json[\"code\"] + \" \"\n",
    "    if \"message\" in response_json:\n",
    "        msg += response_json[\"message\"]\n",
    "    if msg != \"\":\n",
    "        print( msg )\n",
    "        return None\n",
    "    if \"value\" not in response_json:\n",
    "        print( \"No value returned\" )\n",
    "        return None\n",
    "    return response_json[\"value\"]"
   ]
  },
  {
   "cell_type": "code",
   "execution_count": 25,
   "metadata": {},
   "outputs": [],
   "source": [
    "g_widgets_arr = listWidgets( g_auth_token, g_mural_id )"
   ]
  },
  {
   "cell_type": "code",
   "execution_count": null,
   "metadata": {},
   "outputs": [],
   "source": [
    "print( json.dumps( g_widgets_arr, indent=3 ) )"
   ]
  },
  {
   "cell_type": "markdown",
   "metadata": {},
   "source": [
    "### 4.2 Establish mural coordinates\n",
    "To be able to paste arguments against the plans in the mural, it's not enough to just make a list of the plans in the mural.  \n",
    "\n",
    "Instead, we need to know the quadrants where the plans are located in the mural."
   ]
  },
  {
   "cell_type": "code",
   "execution_count": 27,
   "metadata": {},
   "outputs": [],
   "source": [
    "import numpy as np\n",
    "import math\n",
    "\n",
    "def getAngle( x, y, center_x, center_y ):\n",
    "    z = ( x - center_x ) + 1j * ( y - center_y )\n",
    "    return np.angle( z, deg = True )\n",
    "\n",
    "def removeHTML( html ):\n",
    "    txt = re.sub( r\"\\<[^>]+\\>\", \" \", html )\n",
    "    return txt\n",
    "\n",
    "def removeExtraSpaces( txt ):\n",
    "    txt = re.sub( r\"^\\s+\", \"\", txt )\n",
    "    txt = re.sub( r\"\\s+$\", \"\", txt )\n",
    "    return re.sub( r\"\\s+\", \" \", txt )\n",
    "\n",
    "def whichQuadrant( x, y, quadrants ):\n",
    "    angle = getAngle( x, y, quadrants[\"center_x\"], quadrants[\"center_y\"] )\n",
    "    for i in range( len( quadrants[\"quadrants_arr\"] ) ):\n",
    "        if ( quadrants[\"quadrants_arr\"][i][\"min_angle\"] <= angle ) and ( angle <= quadrants[\"quadrants_arr\"][i][\"max_angle\"] ):\n",
    "            return i\n",
    "    return -1\n",
    "    \n",
    "def getQuadrants( widgets_arr ):\n",
    "    text_arr = []\n",
    "    quadrants = { \"quadrants_arr\" : [ { \"min_angle\" :  -90, \"max_angle\" :    0 },\n",
    "                                      { \"min_angle\" :    0, \"max_angle\" :   90 },\n",
    "                                      { \"min_angle\" :   90, \"max_angle\" :  180 },\n",
    "                                      { \"min_angle\" : -179, \"max_angle\" :  -90 } ],\n",
    "                  \"center_x\" : 0,\n",
    "                  \"center_y\" : 0,\n",
    "                  \"min_r\"    : 400,\n",
    "                  \"max_r\"    : 0\n",
    "                }\n",
    "    # Collect text and set up coordinates using arrows\n",
    "    for widget in widgets_arr:\n",
    "        if widget[\"type\"] == \"text\":\n",
    "            text = removeExtraSpaces( removeHTML( widget[\"text\"] ) )\n",
    "            text_arr.append( { \"text\"   : text, \n",
    "                               \"x\"      : widget[\"x\"], \n",
    "                               \"y\"      : widget[\"y\"],\n",
    "                               \"height\" : widget[\"height\"],\n",
    "                               \"width\"  : widget[\"width\"] } )\n",
    "        elif widget[\"type\"] == \"arrow\":\n",
    "            if widget[\"width\"] > widget[\"height\"]:\n",
    "                quadrants[\"center_y\"] = widget[\"y\"]\n",
    "                quadrants[\"max_r\"] = 0.4 * widget[\"width\"]\n",
    "            else:\n",
    "                quadrants[\"center_x\"] = widget[\"x\"]\n",
    "    # Add text\n",
    "    for txt in text_arr:\n",
    "        index = whichQuadrant( txt[\"x\"],  txt[\"y\"], quadrants )\n",
    "        quadrants[\"quadrants_arr\"][index][\"plan\"] = txt\n",
    "        #r = math.sqrt( ( txt[\"x\"] - quadrants[\"center_x\"] )**2 + ( txt[\"y\"] - quadrants[\"center_y\"] )**2 )\n",
    "        #if r > quadrants[\"min_r\"]:\n",
    "        #    quadrants[\"min_r\"] = r\n",
    "    #quadrants[\"min_r\"] = quadrants[\"min_r\"] + 250\n",
    "    return quadrants"
   ]
  },
  {
   "cell_type": "code",
   "execution_count": 28,
   "metadata": {},
   "outputs": [],
   "source": [
    "g_quadrants = getQuadrants( g_widgets_arr )"
   ]
  },
  {
   "cell_type": "code",
   "execution_count": null,
   "metadata": {},
   "outputs": [],
   "source": [
    "print( json.dumps( g_quadrants, indent=3 ) )"
   ]
  },
  {
   "cell_type": "code",
   "execution_count": null,
   "metadata": {},
   "outputs": [],
   "source": []
  },
  {
   "cell_type": "code",
   "execution_count": null,
   "metadata": {},
   "outputs": [],
   "source": []
  },
  {
   "cell_type": "markdown",
   "metadata": {},
   "source": [
    "# Section C - Generate and post arguments\n",
    "\n",
    "<p>&nbsp;</p>\n",
    "\n",
    "<img src=\"https://raw.githubusercontent.com/spackows/MURAL-API-Samples/main/images/sample-13_devils-advocate_01.png\" width=\"50%\" title=\"Image of a mural\" />"
   ]
  },
  {
   "cell_type": "markdown",
   "metadata": {},
   "source": [
    "<a id=\"step5\"></a>\n",
    "## Step 5: Generate arguments against the plans\n",
    "For each plan, prompt a large language model to generate arguments against the plan using the IBM watsonx.ai foundation models Python library."
   ]
  },
  {
   "cell_type": "code",
   "execution_count": 70,
   "metadata": {},
   "outputs": [],
   "source": [
    "# If needed, experiment again with other models and different parameters\n",
    "\n",
    "# g_model_id = \"ibm/granite-13b-instruct-v1\"\n",
    "\n",
    "# g_prompt_parameters = {\n",
    "#     \"decoding_method\": \"sample\",\n",
    "#     \"max_new_tokens\": 200,\n",
    "#     \"min_new_tokens\": 0,\n",
    "#     \"random_seed\": 1683314208,\n",
    "#     \"stop_sequences\": [ \"\\n\\n\" ],\n",
    "#     \"temperature\": 0.7,\n",
    "#     \"top_k\": 50,\n",
    "#     \"top_p\": 1,\n",
    "#     \"repetition_penalty\": 1.0\n",
    "# }"
   ]
  },
  {
   "cell_type": "code",
   "execution_count": 30,
   "metadata": {},
   "outputs": [],
   "source": [
    "for index in range( len( g_quadrants[\"quadrants_arr\"] ) ):\n",
    "    plan_text = g_quadrants[\"quadrants_arr\"][index][\"plan\"][\"text\"]\n",
    "    arguments_arr = listArgumentsAgainst( g_model_id, g_prompt_parameters, plan_text )\n",
    "    if arguments_arr is None:\n",
    "        print( \"\\nGenerating arguments against the plan in quadrant \" + str( index ) + \" failed.\" )\n",
    "        break\n",
    "    g_quadrants[\"quadrants_arr\"][index][\"arguments_arr\"] = []\n",
    "    for argument in arguments_arr:\n",
    "        g_quadrants[\"quadrants_arr\"][index][\"arguments_arr\"].append( { \"text\" : argument, \"width\" : 300, \"height\" : 250 } )"
   ]
  },
  {
   "cell_type": "code",
   "execution_count": null,
   "metadata": {},
   "outputs": [],
   "source": [
    "print( json.dumps( g_quadrants, indent=3 ) )"
   ]
  },
  {
   "cell_type": "code",
   "execution_count": null,
   "metadata": {},
   "outputs": [],
   "source": []
  },
  {
   "cell_type": "code",
   "execution_count": null,
   "metadata": {},
   "outputs": [],
   "source": []
  },
  {
   "cell_type": "markdown",
   "metadata": {},
   "source": [
    "<a id=\"step6\"></a>\n",
    "## Step 6: Post arguments in mural\n",
    "- 6.1 Generate a random ( x, y ) position for each argument in the appropriate quadrant\n",
    "- 6.2 Post arguments on sticky notes in the mural"
   ]
  },
  {
   "cell_type": "markdown",
   "metadata": {},
   "source": [
    "### 6.1 Generate a random ( x, y ) position for each argument in the appropriate quadrant"
   ]
  },
  {
   "cell_type": "code",
   "execution_count": 32,
   "metadata": {},
   "outputs": [],
   "source": [
    "from random import randrange\n",
    "\n",
    "#g_quadrants[\"quadrants_arr\"] = [ { \"min_angle\" :  (  -90 +  20 ), \"max_angle\" :  (   0 - 20 ) },\n",
    "#                                 { \"min_angle\" :  (    0 +  20 ), \"max_angle\" :  (  90 - 20 ) },\n",
    "#                                 { \"min_angle\" :  (   90 +  20 ), \"max_angle\" :  ( 180 - 20 ) },\n",
    "#                                 { \"min_angle\" :  ( -179 +  20 ), \"max_angle\" :  ( -90 - 20 ) } ]\n",
    "\n",
    "def randomPolar( min_r, max_r, min_angle, max_angle ):\n",
    "    min_angle = min_angle + 10\n",
    "    max_angle = max_angle - 10\n",
    "    delta_r = max_r - min_r\n",
    "    delta_angle = max_angle - min_angle\n",
    "    r = min_r + ( 0.01 * randrange( 100 ) * delta_r )\n",
    "    angle = min_angle + ( 0.01 * randrange( 100 ) * delta_angle )\n",
    "    return r, angle\n",
    "\n",
    "def xyFromPolar( r, angle ):\n",
    "    x = r * math.cos( math.radians( angle ) )\n",
    "    y = r * math.sin( math.radians( angle ) )\n",
    "    x += g_quadrants[\"center_x\"]\n",
    "    y += g_quadrants[\"center_y\"]\n",
    "    return round( x ), round( y )\n",
    "\n",
    "def randomPosition( quadrant_index ):\n",
    "    min_r = g_quadrants[\"min_r\"]\n",
    "    max_r = g_quadrants[\"max_r\"]\n",
    "    min_angle = g_quadrants[\"quadrants_arr\"][quadrant_index][\"min_angle\"]\n",
    "    max_angle = g_quadrants[\"quadrants_arr\"][quadrant_index][\"max_angle\"]\n",
    "    r, angle = randomPolar( min_r, max_r, min_angle, max_angle )\n",
    "    x, y = xyFromPolar( r, angle )\n",
    "    return x, y"
   ]
  },
  {
   "cell_type": "code",
   "execution_count": 33,
   "metadata": {},
   "outputs": [],
   "source": [
    "def rectanglesOverlap_org( left, right, top, bottom, obj ):\n",
    "    existing_left = obj[\"x\"]\n",
    "    existing_right = existing_left + obj[\"width\"]\n",
    "    existing_top = obj[\"y\"]\n",
    "    existing_bottom = existing_top + obj[\"height\"]\n",
    "    if ( ( right > existing_left ) and ( left < existing_right ) and ( bottom > existing_top ) and ( top < existing_bottom ) ) or \\\n",
    "       ( ( right > existing_left ) and ( left < existing_right ) and ( bottom > existing_top ) and ( bottom < existing_bottom ) ) or \\\n",
    "       ( ( right > existing_left ) and ( left < existing_right ) and ( top > existing_top ) and ( top < existing_bottom ) ) or \\\n",
    "       ( ( right > existing_left ) and ( left < existing_right ) and ( bottom > existing_top ) and ( bottom < existing_bottom ) ):\n",
    "        return True\n",
    "    return False\n",
    "\n",
    "def rectanglesOverlap( left, right, top, bottom, obj ):\n",
    "    existing_left = obj[\"x\"]\n",
    "    existing_right = existing_left + obj[\"width\"]\n",
    "    existing_top = obj[\"y\"]\n",
    "    existing_bottom = existing_top + obj[\"height\"]\n",
    "    if ( right > existing_left ) and ( left < existing_right ) and ( bottom > existing_top ) and ( top < existing_bottom ):\n",
    "        return True\n",
    "    return False\n",
    "\n",
    "def overlaps( argument_index_in, quadrant_index_in, x, y ):\n",
    "    left = x\n",
    "    right = x + 300\n",
    "    top = y\n",
    "    bottom = y + 250\n",
    "    for quadrant_index in range( len( g_quadrants[\"quadrants_arr\"] ) ):\n",
    "        quadrant = g_quadrants[\"quadrants_arr\"][quadrant_index]\n",
    "        if rectanglesOverlap( left, right, top, bottom, quadrant[\"plan\"] ):\n",
    "            return True\n",
    "        for argument_index in range( len( quadrant[\"arguments_arr\"] ) ):\n",
    "            argument = quadrant[\"arguments_arr\"][argument_index]\n",
    "            if ( ( argument_index != argument_index_in ) or ( quadrant_index != quadrant_index_in ) ) and ( \"x\" in argument ) and ( \"y\" in argument ):\n",
    "                if rectanglesOverlap( left, right, top, bottom, argument ):\n",
    "                    return True\n",
    "    return False"
   ]
  },
  {
   "cell_type": "code",
   "execution_count": 34,
   "metadata": {},
   "outputs": [],
   "source": [
    "for argument_index in range( 4 ):\n",
    "    for quadrant_index in range( len( g_quadrants[\"quadrants_arr\"] ) ):\n",
    "        x, y = randomPosition( quadrant_index )\n",
    "        while overlaps( argument_index, quadrant_index, x, y ):\n",
    "            x, y = randomPosition( quadrant_index )\n",
    "        g_quadrants[\"quadrants_arr\"][quadrant_index][\"arguments_arr\"][argument_index][\"x\"] = x\n",
    "        g_quadrants[\"quadrants_arr\"][quadrant_index][\"arguments_arr\"][argument_index][\"y\"] = y"
   ]
  },
  {
   "cell_type": "code",
   "execution_count": null,
   "metadata": {},
   "outputs": [],
   "source": [
    "print( json.dumps( g_quadrants, indent=3 ) )"
   ]
  },
  {
   "cell_type": "markdown",
   "metadata": {},
   "source": [
    "### 6.2 Post arguments on sticky notes in the mural"
   ]
  },
  {
   "cell_type": "code",
   "execution_count": 40,
   "metadata": {},
   "outputs": [],
   "source": [
    "# https://en.wikipedia.org/wiki/Web_colors\n",
    "\n",
    "g_colors = [ [ \"#FFB6C1FF\",    # LightPink\n",
    "               \"#FF1493FF\",    # DeepPink\n",
    "               \"#800080FF\",    # Purple\n",
    "               \"#9932CCFF\" ],  # DarkOrchid\n",
    "             [ \"#00FF00FF\",    # Lime\n",
    "               \"#6B8E23FF\",    # OliveDrab\n",
    "               \"#006400FF\",    # DarkGreen\n",
    "               \"#90EE90FF\" ],  # LightGreen\n",
    "             [ \"#00008BFF\",    # DarkBlue\n",
    "               \"#0000FFFF\",    # Blue\n",
    "               \"#1E90FFFF\",    # DodgerBlue\n",
    "               \"#B0E0E6FF\" ],  # PowderBlue\n",
    "             [ \"#FF4500FF\",    # OrangeRed\n",
    "               \"#FFA500FF\",    # Orange\n",
    "               \"#FFFF00FF\",    # Yellow\n",
    "               \"#FFE4B5FF\" ] ] # Moccasin"
   ]
  },
  {
   "cell_type": "code",
   "execution_count": 41,
   "metadata": {},
   "outputs": [],
   "source": [
    "def addStickyToMural( mural_id, auth_token, sticky_data ):\n",
    "    # https://developers.mural.co/public/reference/createstickynote\n",
    "    url = \"https://app.mural.co/api/public/v1/murals/\" + mural_id + \"/widgets/sticky-note\"\n",
    "    headers = { \"Content-Type\" : \"application/json\", \"Accept\" : \"vnd.mural.preview\", \"Authorization\" : \"Bearer \" + auth_token }\n",
    "    data = json.dumps( sticky_data )\n",
    "    response = requests.request( \"POST\", url, headers=headers, data=data )\n",
    "    response_json = json.loads( response.text )\n",
    "    msg = \"\"\n",
    "    if \"code\" in response_json:\n",
    "        msg += response_json[\"code\"] + \" \"\n",
    "    if \"message\" in response_json:\n",
    "        msg += response_json[\"message\"]\n",
    "    if msg != \"\":\n",
    "        print( msg )"
   ]
  },
  {
   "cell_type": "code",
   "execution_count": 42,
   "metadata": {},
   "outputs": [],
   "source": [
    "def placeArgumentStickies( mural_id, auth_token, b_debug=False ):\n",
    "    stickies_arr = []\n",
    "    colors = g_colors.copy()\n",
    "    for argument_index in range( 4 ):\n",
    "        for quadrant_index in range( len( g_quadrants[\"quadrants_arr\"] ) ):\n",
    "            quadrant = g_quadrants[\"quadrants_arr\"][quadrant_index]\n",
    "            argument = quadrant[\"arguments_arr\"][argument_index]\n",
    "            x = argument[\"x\"]\n",
    "            y = argument[\"y\"]\n",
    "            text = argument[\"text\"]\n",
    "            bg_color = g_colors[quadrant_index][argument_index]\n",
    "            sticky = { \"shape\"    : \"rectangle\", \n",
    "                       \"style\"    : { \"backgroundColor\" : bg_color, \"fontSize\" : 32 }, \n",
    "                       \"x\"        : x, \n",
    "                       \"y\"        : y, \n",
    "                       \"height\"   : 250,\n",
    "                       \"width\"    : 300,\n",
    "                       \"text\"     : text }\n",
    "            addStickyToMural( mural_id, auth_token, sticky )\n",
    "            stickies_arr.append( sticky )\n",
    "    if b_debug:\n",
    "        print( json.dumps( stickies_arr, indent=3 ) )"
   ]
  },
  {
   "cell_type": "code",
   "execution_count": 44,
   "metadata": {},
   "outputs": [],
   "source": [
    "import time\n",
    "\n",
    "time.sleep(5)\n",
    "\n",
    "# Quick!  After running this cell, switch to your browser \n",
    "# tab where the mural is to see the stickies get added\n",
    "# ...\n",
    "\n",
    "placeArgumentStickies( g_mural_id, g_auth_token )"
   ]
  },
  {
   "cell_type": "code",
   "execution_count": null,
   "metadata": {},
   "outputs": [],
   "source": []
  },
  {
   "cell_type": "markdown",
   "metadata": {},
   "source": [
    "Something like this:\n",
    "\n",
    "<img src=\"https://raw.githubusercontent.com/spackows/MURAL-API-Samples/main/images/sample-13_devils-advocate.gif\" width=\"50%\" title=\"Image of a mural\" />"
   ]
  },
  {
   "cell_type": "code",
   "execution_count": null,
   "metadata": {},
   "outputs": [],
   "source": []
  },
  {
   "cell_type": "code",
   "execution_count": null,
   "metadata": {},
   "outputs": [],
   "source": []
  }
 ],
 "metadata": {
  "kernelspec": {
   "display_name": "Python 3.10",
   "language": "python",
   "name": "python3"
  },
  "language_info": {
   "codemirror_mode": {
    "name": "ipython",
    "version": 3
   },
   "file_extension": ".py",
   "mimetype": "text/x-python",
   "name": "python",
   "nbconvert_exporter": "python",
   "pygments_lexer": "ipython3",
   "version": "3.10.12"
  }
 },
 "nbformat": 4,
 "nbformat_minor": 1
}
